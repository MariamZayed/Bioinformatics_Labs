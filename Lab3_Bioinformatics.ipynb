{
  "nbformat": 4,
  "nbformat_minor": 0,
  "metadata": {
    "colab": {
      "name": "Lab3_Bioinformatics.ipynb",
      "provenance": [],
      "collapsed_sections": []
    },
    "kernelspec": {
      "name": "python3",
      "display_name": "Python 3"
    },
    "language_info": {
      "name": "python"
    }
  },
  "cells": [
    {
      "cell_type": "markdown",
      "source": [
        "##Importing Section"
      ],
      "metadata": {
        "id": "wbLWTKd5VXzV"
      }
    },
    {
      "cell_type": "code",
      "execution_count": null,
      "metadata": {
        "id": "VQf5I8j-sQct"
      },
      "outputs": [],
      "source": [
        "pip install biopython"
      ]
    },
    {
      "cell_type": "code",
      "source": [
        "import Bio as bio\n",
        "from Bio.Seq import Seq # this one to create sequences"
      ],
      "metadata": {
        "id": "PF-ZaM7KxP0u"
      },
      "execution_count": 3,
      "outputs": []
    },
    {
      "cell_type": "markdown",
      "source": [
        "##Start initializing\n"
      ],
      "metadata": {
        "id": "W_nNz8cSyWVJ"
      }
    },
    {
      "cell_type": "code",
      "source": [
        "seq = Seq(\"AGTACACTGGT\")\n",
        "onther_seq = \"aaaggtttaacca\""
      ],
      "metadata": {
        "id": "7c0vYb5zybEV"
      },
      "execution_count": 4,
      "outputs": []
    },
    {
      "cell_type": "markdown",
      "source": [
        "- عشان اعرف سيكونس هستخدم Seq \n",
        "- ممكن اعرف سيكونس بطرقتين, اما استخدم Seq\n",
        "- او اعرف متغير عادي واحط فيه السترينج او السكونس بتاعي عادي\n",
        "- By the way, I have imported Seq above from in the importing section"
      ],
      "metadata": {
        "id": "oUHhYmCGzaXZ"
      }
    },
    {
      "cell_type": "markdown",
      "source": [
        "##Functions with Seq objects"
      ],
      "metadata": {
        "id": "1diNPp5dq7Ci"
      }
    },
    {
      "cell_type": "markdown",
      "source": [
        "### Complement and reverse of string"
      ],
      "metadata": {
        "id": "6k4XKaWF330r"
      }
    },
    {
      "cell_type": "code",
      "source": [
        "  complement = seq.complement()\n",
        "\n",
        "print(seq)\n",
        "print(complement)\n",
        "print(complement.reverse_complement())"
      ],
      "metadata": {
        "colab": {
          "base_uri": "https://localhost:8080/"
        },
        "id": "-qqdxOgzrCkP",
        "outputId": "7ebf5225-f946-434a-98aa-7044174c3618"
      },
      "execution_count": 13,
      "outputs": [
        {
          "output_type": "stream",
          "name": "stdout",
          "text": [
            "AGTACACTGGT\n",
            "TCATGTGACCA\n",
            "TGGTCACATGA\n"
          ]
        }
      ]
    },
    {
      "cell_type": "markdown",
      "source": [
        "> - reverse_complement() means it will brings the complement, then reverse it "
      ],
      "metadata": {
        "id": "DZIc_6e12ooK"
      }
    },
    {
      "cell_type": "markdown",
      "source": [
        "### Normal printing in Python"
      ],
      "metadata": {
        "id": "Uekrrmor3_MM"
      }
    },
    {
      "cell_type": "code",
      "source": [
        "#this ia a loop to print each index and its value\n",
        "for index, string in enumerate(seq):\n",
        "  print(\"%i %s\" % (index, string))"
      ],
      "metadata": {
        "colab": {
          "base_uri": "https://localhost:8080/"
        },
        "id": "pabd3aQiVuZ0",
        "outputId": "c1dc1cb8-9014-46dd-e664-839c54efab01"
      },
      "execution_count": 6,
      "outputs": [
        {
          "output_type": "stream",
          "name": "stdout",
          "text": [
            "0 A\n",
            "1 G\n",
            "2 T\n",
            "3 A\n",
            "4 C\n",
            "5 A\n",
            "6 C\n",
            "7 T\n",
            "8 G\n",
            "9 G\n",
            "10 T\n"
          ]
        }
      ]
    },
    {
      "cell_type": "markdown",
      "source": [
        "- enumrate() function <br>\n",
        "when dealing with iterations, we get a need to keep a count of iterations. Python eases the programmers’ task by providing a built-in function enumerate() for this task.\n",
        "\n",
        "- The %i %s % (index, string) <br>\n",
        "%i acts as a placeholder for a indexes while %s acts a placeholder for a string, so throw the index var in %i and the string in %s"
      ],
      "metadata": {
        "id": "3n20TXGyXUDH"
      }
    },
    {
      "cell_type": "markdown",
      "source": [
        "### Calling index"
      ],
      "metadata": {
        "id": "OrGu3fWv3zlf"
      }
    },
    {
      "cell_type": "code",
      "source": [
        "#You can print Seq object indexes\n",
        "print(seq[0])\n",
        "print(seq[1])\n",
        "#to print last index\n",
        "print(seq[-1])"
      ],
      "metadata": {
        "colab": {
          "base_uri": "https://localhost:8080/"
        },
        "id": "t9fsuJqKWW4G",
        "outputId": "dce4dea7-0094-4ff6-c35d-2e6769fba1c1"
      },
      "execution_count": 7,
      "outputs": [
        {
          "output_type": "stream",
          "name": "stdout",
          "text": [
            "A\n",
            "G\n",
            "T\n"
          ]
        }
      ]
    },
    {
      "cell_type": "markdown",
      "source": [
        "### .count()"
      ],
      "metadata": {
        "id": "79EGgpud3vHy"
      }
    },
    {
      "cell_type": "code",
      "source": [
        "#You can count repeated strings with Seq object\n",
        "result = Seq('AAAA').count('AA')\n",
        "onter_result = 'AAAA'.count('AA')\n",
        "\n",
        "print(result)\n",
        "print(onter_result)"
      ],
      "metadata": {
        "colab": {
          "base_uri": "https://localhost:8080/"
        },
        "id": "o-B-HMIDkKja",
        "outputId": "afaa00bb-c641-4314-a6ae-65db71fc9593"
      },
      "execution_count": 8,
      "outputs": [
        {
          "output_type": "stream",
          "name": "stdout",
          "text": [
            "2\n",
            "2\n"
          ]
        }
      ]
    },
    {
      "cell_type": "markdown",
      "source": [
        "- this function counts how many times did the target repeates.<br>\n",
        "so the AA repeated 2 times"
      ],
      "metadata": {
        "id": "DPFKT8CFk5LY"
      }
    },
    {
      "cell_type": "markdown",
      "source": [
        "###Lenght len()"
      ],
      "metadata": {
        "id": "W8sjLqpi3rkT"
      }
    },
    {
      "cell_type": "code",
      "source": [
        "#You can bring the len of Seq object as an string \n",
        "len(seq)"
      ],
      "metadata": {
        "colab": {
          "base_uri": "https://localhost:8080/"
        },
        "id": "8Od0RIMvk3L1",
        "outputId": "145fd23f-faba-423e-c38b-07edf9ee2d17"
      },
      "execution_count": 9,
      "outputs": [
        {
          "output_type": "execute_result",
          "data": {
            "text/plain": [
              "11"
            ]
          },
          "metadata": {},
          "execution_count": 9
        }
      ]
    },
    {
      "cell_type": "markdown",
      "source": [
        "###Slicing"
      ],
      "metadata": {
        "id": "yVOgPgqV3p00"
      }
    },
    {
      "cell_type": "code",
      "source": [
        "print('This is the whole seq '+seq)\n",
        "\n",
        "#You can slice a Seq object\n",
        "#list[start:end:step]\n",
        "print('4:12>> '+seq[4:12])\n",
        "\n",
        "#This means 0:0:3\n",
        "print('0::3>> '+seq[0::3])\n",
        "print('1::3>> '+seq[1::3])\n",
        "print('2::3>> '+seq[2::3])\n",
        "#this is the inversed string, meaning to print the seq but form last index\n",
        "print('::-1>> '+seq[::-1])"
      ],
      "metadata": {
        "colab": {
          "base_uri": "https://localhost:8080/"
        },
        "id": "Y_WQkThXm_WQ",
        "outputId": "cf0556d6-05d9-4abc-f7a9-bec2aad34ac6"
      },
      "execution_count": 14,
      "outputs": [
        {
          "output_type": "stream",
          "name": "stdout",
          "text": [
            "This is the whole seq AGTACACTGGT\n",
            "4:12>> CACTGGT\n",
            "0::3>> AACG\n",
            "1::3>> GCTT\n",
            "2::3>> TAG\n",
            "::-1>> TGGTCACATGA\n"
          ]
        }
      ]
    },
    {
      "cell_type": "markdown",
      "source": [
        "###Bring uppercase and lowercase for the sequence\\"
      ],
      "metadata": {
        "id": "hL1Qp7ZU4XZm"
      }
    },
    {
      "cell_type": "code",
      "source": [
        "#print lower and upper case for the strings\\\n",
        "print(onther_seq.upper())\n",
        "print(seq.lower())"
      ],
      "metadata": {
        "colab": {
          "base_uri": "https://localhost:8080/"
        },
        "id": "XVQjbLtOnUCH",
        "outputId": "25346e12-d5e0-446f-9e98-1504f7efc95a"
      },
      "execution_count": 11,
      "outputs": [
        {
          "output_type": "stream",
          "name": "stdout",
          "text": [
            "AAAGGTTTAACCA\n",
            "agtacactggt\n"
          ]
        }
      ]
    },
    {
      "cell_type": "markdown",
      "source": [
        "###Comparing"
      ],
      "metadata": {
        "id": "_yjpecMw4wDY"
      }
    },
    {
      "cell_type": "code",
      "source": [
        "#You can compare Seq objects\n",
        "print(seq=='AGTACACTGGT')"
      ],
      "metadata": {
        "colab": {
          "base_uri": "https://localhost:8080/"
        },
        "id": "YX8xvwG2po8L",
        "outputId": "d54f9b37-4d2a-4629-dcf6-27cd4fd33c2b"
      },
      "execution_count": 12,
      "outputs": [
        {
          "output_type": "stream",
          "name": "stdout",
          "text": [
            "True\n"
          ]
        }
      ]
    }
  ]
}