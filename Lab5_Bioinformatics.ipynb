{
  "nbformat": 4,
  "nbformat_minor": 0,
  "metadata": {
    "colab": {
      "name": "Lab5_Bioinformatics.ipynb",
      "provenance": [],
      "collapsed_sections": [
        "wbLWTKd5VXzV",
        "W_nNz8cSyWVJ",
        "s-2rddlptDjs",
        "7JZ7QwcB-j89",
        "S8tuKll1BzoN",
        "6Q78V4vY_lk3",
        "HaKfS1n7AwBJ"
      ],
      "authorship_tag": "ABX9TyP1AnvfXNtqbjcz0V1rg7lX",
      "include_colab_link": true
    },
    "kernelspec": {
      "name": "python3",
      "display_name": "Python 3"
    },
    "language_info": {
      "name": "python"
    }
  },
  "cells": [
    {
      "cell_type": "markdown",
      "metadata": {
        "id": "view-in-github",
        "colab_type": "text"
      },
      "source": [
        "<a href=\"https://colab.research.google.com/github/MariamZayed/Bioinformatics_Labs/blob/main/Lab5_Bioinformatics.ipynb\" target=\"_parent\"><img src=\"https://colab.research.google.com/assets/colab-badge.svg\" alt=\"Open In Colab\"/></a>"
      ]
    },
    {
      "cell_type": "markdown",
      "source": [
        "##**Importing Section**"
      ],
      "metadata": {
        "id": "wbLWTKd5VXzV"
      }
    },
    {
      "cell_type": "code",
      "execution_count": 25,
      "metadata": {
        "colab": {
          "base_uri": "https://localhost:8080/"
        },
        "id": "VQf5I8j-sQct",
        "outputId": "851ec9df-a99a-48b9-e565-adf2aba031aa"
      },
      "outputs": [
        {
          "output_type": "stream",
          "name": "stdout",
          "text": [
            "Requirement already satisfied: biopython in /usr/local/lib/python3.7/dist-packages (1.79)\n",
            "Requirement already satisfied: numpy in /usr/local/lib/python3.7/dist-packages (from biopython) (1.19.5)\n"
          ]
        }
      ],
      "source": [
        "pip install biopython"
      ]
    },
    {
      "cell_type": "code",
      "source": [
        "import Bio \n",
        "from Bio.Seq import Seq\n",
        "from Bio import SeqIO #this lib to read and itra files\n",
        "from Bio import Entrez #Provides code to access NCBI over the WWW\n",
        "from Bio import motifs #for creating motifes objects"
      ],
      "metadata": {
        "id": "PF-ZaM7KxP0u"
      },
      "execution_count": 26,
      "outputs": []
    },
    {
      "cell_type": "markdown",
      "source": [
        "##**Start initializing Motif Sequences/Instances**\n"
      ],
      "metadata": {
        "id": "W_nNz8cSyWVJ"
      }
    },
    {
      "cell_type": "markdown",
      "source": [
        "- Create motifs sequences.\n",
        "- function is motifs.create() that we took in the previous lab.\n",
        "- We call motifs either motifs or instances."
      ],
      "metadata": {
        "id": "PgoRoJ0Csqag"
      }
    },
    {
      "cell_type": "code",
      "source": [
        "instances = [Seq(\"TACAA\"),\n",
        "             Seq(\"TACGC\"),\n",
        "             Seq(\"TACAC\"),\n",
        "             Seq(\"TACCC\"),\n",
        "             Seq(\"AACCC\"),\n",
        "             Seq(\"AATGC\"),\n",
        "             Seq(\"AATGC\")]\n",
        "#create motif\n",
        "motifs_seq = motifs.create(instances)\n",
        "print(motifs_seq)\n",
        "print(motifs_seq.counts)\n",
        "motifs_seq"
      ],
      "metadata": {
        "colab": {
          "base_uri": "https://localhost:8080/"
        },
        "id": "0HUQtEnrr2xf",
        "outputId": "f0bb9117-8b4f-441e-bdd5-0106340fc419"
      },
      "execution_count": 27,
      "outputs": [
        {
          "output_type": "stream",
          "name": "stdout",
          "text": [
            "TACAA\n",
            "TACGC\n",
            "TACAC\n",
            "TACCC\n",
            "AACCC\n",
            "AATGC\n",
            "AATGC\n",
            "\n",
            "        0      1      2      3      4\n",
            "A:   3.00   7.00   0.00   2.00   1.00\n",
            "C:   0.00   0.00   5.00   2.00   6.00\n",
            "G:   0.00   0.00   0.00   3.00   0.00\n",
            "T:   4.00   0.00   2.00   0.00   0.00\n",
            "\n"
          ]
        },
        {
          "output_type": "execute_result",
          "data": {
            "text/plain": [
              "<Bio.motifs.Motif at 0x7fdd58005e50>"
            ]
          },
          "metadata": {},
          "execution_count": 27
        }
      ]
    },
    {
      "cell_type": "markdown",
      "source": [
        "##**General Initializing**"
      ],
      "metadata": {
        "id": "l9WTbDcmEuU7"
      }
    },
    {
      "cell_type": "markdown",
      "source": [
        "###Create any DNA sequence"
      ],
      "metadata": {
        "id": "V4mzwi9JGtbF"
      }
    },
    {
      "cell_type": "code",
      "source": [
        "dna_sequence = Seq(\"TATACATTAAAGGAGGGGGATGCGGATAAATGGAAAGGCGAAAGAAAGAAAAAAATGAATCTAAATGATATAGGATTCCACTATGTAAGGTCTTTGAATCATATCATAAAAGACAATGTAATAAAGCATGAATACAGATT\")"
      ],
      "metadata": {
        "id": "y83VMbrvE7E7"
      },
      "execution_count": 28,
      "outputs": []
    },
    {
      "cell_type": "markdown",
      "source": [
        "###Bring the complement of the DAN sequence"
      ],
      "metadata": {
        "id": "YSzqI912HUTT"
      }
    },
    {
      "cell_type": "code",
      "source": [
        "reversed_dna = dna_sequence.reverse_complement()"
      ],
      "metadata": {
        "id": "1-kNNbCOHaSa"
      },
      "execution_count": 29,
      "outputs": []
    },
    {
      "cell_type": "markdown",
      "source": [
        "##**PWM**\n",
        "POSITION-WEIGHT MATRICES"
      ],
      "metadata": {
        "id": "s-2rddlptDjs"
      }
    },
    {
      "cell_type": "markdown",
      "source": [
        "- We should add Pseudocounts to avoid overvitting and to prevent probabilities from becoming zero.\n",
        "- next step is to normlize.\n",
        "to add the pseudocount value before normlizing, we will specify a number for the pseudocounts argument in the normlize() function"
      ],
      "metadata": {
        "id": "n_nKL7CktLod"
      }
    },
    {
      "cell_type": "markdown",
      "source": [
        "####pseudocounts\n",
        "avoid overfitting"
      ],
      "metadata": {
        "id": "kbBqu0ugp2zq"
      }
    },
    {
      "cell_type": "code",
      "source": [
        "pwm = motifs_seq.counts.normalize(pseudocounts=0.5)\n",
        "print(pwm)"
      ],
      "metadata": {
        "colab": {
          "base_uri": "https://localhost:8080/"
        },
        "id": "Dfjt-H9Ct_wr",
        "outputId": "c85ad6a6-12c4-4117-eabb-12fab6bd6687"
      },
      "execution_count": 30,
      "outputs": [
        {
          "output_type": "stream",
          "name": "stdout",
          "text": [
            "        0      1      2      3      4\n",
            "A:   0.39   0.83   0.06   0.28   0.17\n",
            "C:   0.06   0.06   0.61   0.28   0.72\n",
            "G:   0.06   0.06   0.06   0.39   0.06\n",
            "T:   0.50   0.06   0.28   0.06   0.06\n",
            "\n"
          ]
        }
      ]
    },
    {
      "cell_type": "markdown",
      "source": [
        "I can give every base a different pseudocounts like coming one"
      ],
      "metadata": {
        "id": "DdRWcWwwF9sX"
      }
    },
    {
      "cell_type": "code",
      "source": [
        "pwm2 = motifs_seq.counts.normalize(pseudocounts={\"A\":0.6, \"C\": 0.4, \"G\": 0.4, \"T\": 0.6})\n",
        "print(pwm2)"
      ],
      "metadata": {
        "colab": {
          "base_uri": "https://localhost:8080/"
        },
        "id": "JrAVZCXKE1Vd",
        "outputId": "be41523d-3bfc-4841-e339-2d5d6abb7754"
      },
      "execution_count": 31,
      "outputs": [
        {
          "output_type": "stream",
          "name": "stdout",
          "text": [
            "        0      1      2      3      4\n",
            "A:   0.40   0.84   0.07   0.29   0.18\n",
            "C:   0.04   0.04   0.60   0.27   0.71\n",
            "G:   0.04   0.04   0.04   0.38   0.04\n",
            "T:   0.51   0.07   0.29   0.07   0.07\n",
            "\n"
          ]
        }
      ]
    },
    {
      "cell_type": "markdown",
      "source": [
        "Bring the consensus and anticonsensus to pwm"
      ],
      "metadata": {
        "id": "PWoB8bTsGfmn"
      }
    },
    {
      "cell_type": "code",
      "source": [
        "print(pwm.consensus)\n",
        "print(pwm.anticonsensus)"
      ],
      "metadata": {
        "colab": {
          "base_uri": "https://localhost:8080/"
        },
        "id": "qc-KRxRKE6Ei",
        "outputId": "8f71923d-3158-4ab3-973c-2dc92afeb195"
      },
      "execution_count": 32,
      "outputs": [
        {
          "output_type": "stream",
          "name": "stdout",
          "text": [
            "TACGC\n",
            "CCATG\n"
          ]
        }
      ]
    },
    {
      "cell_type": "markdown",
      "source": [
        "Bring the complement to each value in the pwm"
      ],
      "metadata": {
        "id": "A4ss0pMbGpC2"
      }
    },
    {
      "cell_type": "code",
      "source": [
        "rpwm = pwm.reverse_complement()\n",
        "print(rpwm)"
      ],
      "metadata": {
        "colab": {
          "base_uri": "https://localhost:8080/"
        },
        "id": "Vq7J0l5AFSYo",
        "outputId": "9faedd0d-b883-41cd-fde8-08ac55417dff"
      },
      "execution_count": 33,
      "outputs": [
        {
          "output_type": "stream",
          "name": "stdout",
          "text": [
            "        0      1      2      3      4\n",
            "A:   0.06   0.06   0.28   0.06   0.50\n",
            "C:   0.06   0.39   0.06   0.06   0.06\n",
            "G:   0.72   0.28   0.61   0.06   0.06\n",
            "T:   0.17   0.28   0.06   0.83   0.39\n",
            "\n"
          ]
        }
      ]
    },
    {
      "cell_type": "markdown",
      "source": [
        "##**Position Specific Scoring Matrix.**\n",
        "== POSITION WEIGHT MATRICES"
      ],
      "metadata": {
        "id": "7JZ7QwcB-j89"
      }
    },
    {
      "cell_type": "markdown",
      "source": [
        "###Calculate the pssm matrix"
      ],
      "metadata": {
        "id": "S8tuKll1BzoN"
      }
    },
    {
      "cell_type": "markdown",
      "source": [
        "- log_odds(background=None)\n",
        "- The Position-Specific Scoring Matrix (PSSM) is computed by log-odds() function\n",
        "- It returns the Position-Specific Scoring Matrix.\n",
        "- If the background paramter is None, a uniform background is assumed.\n",
        "> - if positive then it's for symbols more frequent in the motif.\n",
        "> - if negative then it's for symbols more frequent in the background.\n",
        "> - if 0:0 then it means it's equally likely to see a symbol in the background and in the motif."
      ],
      "metadata": {
        "id": "EuErDkQw9EPq"
      }
    },
    {
      "cell_type": "code",
      "source": [
        "pssm = pwm.log_odds()\n",
        "print(pssm)"
      ],
      "metadata": {
        "colab": {
          "base_uri": "https://localhost:8080/"
        },
        "id": "8vCJadeVFeQu",
        "outputId": "0df8c43e-d2c6-426c-db7b-a499cc276b41"
      },
      "execution_count": 34,
      "outputs": [
        {
          "output_type": "stream",
          "name": "stdout",
          "text": [
            "        0      1      2      3      4\n",
            "A:   0.64   1.74  -2.17   0.15  -0.58\n",
            "C:  -2.17  -2.17   1.29   0.15   1.53\n",
            "G:  -2.17  -2.17  -2.17   0.64  -2.17\n",
            "T:   1.00  -2.17   0.15  -2.17  -2.17\n",
            "\n"
          ]
        }
      ]
    },
    {
      "cell_type": "markdown",
      "source": [
        "To alculate the pssm with a background with unequal probabilities for A, C, G, T, use the background paramter"
      ],
      "metadata": {
        "id": "IBfJEGLb_XKi"
      }
    },
    {
      "cell_type": "code",
      "source": [
        "background = {\"A\":0.3,\"C\":0.2,\"G\":0.2,\"T\":0.3}\n",
        "pssm = pwm.log_odds(background)\n",
        "print(pssm)"
      ],
      "metadata": {
        "colab": {
          "base_uri": "https://localhost:8080/"
        },
        "id": "b0_pERqS9IZS",
        "outputId": "30846059-585d-45b2-fe92-ba8570b8b9e3"
      },
      "execution_count": 35,
      "outputs": [
        {
          "output_type": "stream",
          "name": "stdout",
          "text": [
            "        0      1      2      3      4\n",
            "A:   0.37   1.47  -2.43  -0.11  -0.85\n",
            "C:  -1.85  -1.85   1.61   0.47   1.85\n",
            "G:  -1.85  -1.85  -1.85   0.96  -1.85\n",
            "T:   0.74  -2.43  -0.11  -2.43  -2.43\n",
            "\n"
          ]
        }
      ]
    },
    {
      "cell_type": "markdown",
      "source": [
        "###calculate the scores at all positions(pssm), for the given sequence(dna_sequence)\n"
      ],
      "metadata": {
        "id": "8NYTkTE2KlyS"
      }
    },
    {
      "cell_type": "code",
      "source": [
        "print(pssm.calculate(dna_sequence))"
      ],
      "metadata": {
        "colab": {
          "base_uri": "https://localhost:8080/"
        },
        "id": "FNjpAf1lJd0c",
        "outputId": "692b3357-3c0a-4adf-c668-ca637632a8ba"
      },
      "execution_count": null,
      "outputs": [
        {
          "output_type": "stream",
          "name": "stdout",
          "text": [
            "[  3.841277    -4.865589     1.2783408   -8.77248     -3.7660534\n",
            "  -3.1286235   -5.087981    -2.1810908   -1.4732716    0.11169091\n",
            "  -5.2806263   -7.017592    -3.1107016   -4.210237    -6.4326296\n",
            "  -5.4326296   -8.087981   -10.409909     2.3267038   -5.2806263\n",
            "  -0.38823548  -5.4326296   -8.087981    -9.409909    -1.4441253\n",
            "  -5.4505515   -2.7660534   -4.865589     0.8486565   -3.7951996\n",
            "  -3.9180565   -7.087981    -4.766053    -1.4732716    2.8121307\n",
            "  -4.695664    -1.9731979   -6.503019    -7.087981    -4.766053\n",
            "  -0.4732716   -0.95869845  -4.865589    -4.766053    -0.4732716\n",
            "  -0.95869845  -4.865589    -3.7660534   -1.5436609   -1.5436609\n",
            "  -1.5436609   -3.1286235   -4.865589     1.8486565   -4.865589\n",
            "  -6.087981    -3.3875418   -0.22173283  -3.7280855   -2.1810908\n",
            "  -7.672944    -2.7660534   -4.865589     1.8486565   -6.4505515\n",
            "  -6.824947    -3.0290878   -7.7724795    0.14083725  -5.3801622\n",
            "   0.474261    -5.865589   -10.994872    -1.0656136    0.1567788\n",
            "  -0.4586248    2.2418149   -8.087981    -2.0435872   -4.1286235\n",
            " -10.994872     0.6262641   -7.187517    -2.1810908   -8.672944\n",
            "  -1.1107016   -1.4732716   -3.9021149   -5.766053    -7.5354404\n",
            "  -6.087981    -8.672944    -1.695664    -4.503019    -6.087981\n",
            "  -3.3875418    1.3632296   -2.9911199   -6.824947    -3.0290878\n",
            "  -5.07204      1.7257998   -2.9911199   -6.824947    -1.4441253\n",
            "  -5.4505515   -1.1810908   -2.5436609   -0.4732716    1.7417413\n",
            "  -4.2806263    0.2783408   -6.4505515   -7.087981     0.263694\n",
            "  -7.187517    -2.1810908   -9.257907    -3.5030189    0.77826715\n",
            "  -5.4505515   -2.1810908    2.227168    -0.37373593  -2.4061575\n",
            " -10.409909    -0.37373593  -4.865589    -6.087981    -6.087981\n",
            "   3.4787068   -4.865589     1.8633033   -3.7951996   -4.766053\n",
            "  -8.77248   ]\n"
          ]
        }
      ]
    },
    {
      "cell_type": "markdown",
      "source": [
        "####Calculate the scores for reverse strand \n",
        "The scores returned by pssm.calculate are for the forward strand only. To obtain the scores on the reverse strand, you can take the reverse complement of the PSSM:\n"
      ],
      "metadata": {
        "id": "TO0Eyj_jLdrs"
      }
    },
    {
      "cell_type": "code",
      "source": [
        "rpssm = pssm.reverse_complement()\n",
        "print(rpssm.calculate(dna_sequence))"
      ],
      "metadata": {
        "id": "Hz_Qzs0DKyy7",
        "colab": {
          "base_uri": "https://localhost:8080/"
        },
        "outputId": "52cd52fc-ebe1-488f-d09f-1e48be0a856e"
      },
      "execution_count": null,
      "outputs": [
        {
          "output_type": "stream",
          "name": "stdout",
          "text": [
            "[ -9.994872    -3.7660534   -7.187517     0.263694    -4.503019\n",
            "  -6.672944    -2.7660534   -7.672944    -8.672944    -4.365515\n",
            "  -4.62855     -1.4806511   -2.6650758   -4.043587     0.2418149\n",
            "   2.8267775    1.8792448    1.841277    -6.70947     -4.62855\n",
            "  -5.9180565    3.3122041   -1.8211949    4.4262395   -4.70947\n",
            "  -4.351016    -5.4505515   -5.351016   -10.994872    -2.0435872\n",
            "  -0.4586248    0.51934886  -4.972504    -8.672944    -6.950478\n",
            "  -4.043587    -0.6326542    2.7272418   -3.1810908   -4.972504\n",
            "  -6.087981    -4.950478    -3.7660534   -4.972504    -6.087981\n",
            "  -4.950478    -3.7660534   -2.3875418   -6.672944    -6.672944\n",
            "  -6.672944    -7.035514    -5.351016    -8.409909    -2.6285498\n",
            "  -2.5436609   -1.0656136   -8.77248     -2.1810908   -4.017592\n",
            "  -3.7660534   -5.4505515   -5.351016    -8.409909    -2.9911199\n",
            "   1.7257998   -5.07204     -0.44412524  -9.994872    -6.351016\n",
            "  -2.7805529   -2.4061575    4.063669    -3.3875418   -8.672944\n",
            "  -3.9180565   -6.017592    -2.4732716   -3.9180565   -5.9651246\n",
            "  -2.4441252   -7.187517     1.2783408   -4.503019    -2.650576\n",
            "  -7.087981    -4.7280855   -0.72165924  -1.5801868    1.7417413\n",
            "  -0.4732716   -4.766053    -4.503019    -1.0435873   -2.5436609\n",
            "  -1.0656136   -8.409909    -6.4505515    2.2112265   -8.77248\n",
            "  -3.0290878   -6.824947    -6.4505515    2.2112265   -8.409909\n",
            "  -4.351016    -5.087981    -9.257907    -6.087981    -7.5354404\n",
            "  -3.1810908   -4.1245074   -3.6431966   -4.766053    -8.77248\n",
            "   1.2783408   -4.503019    -0.4281837   -1.1810908   -8.994872\n",
            "  -4.351016    -7.672944    -8.672944    -4.365515    -5.865589\n",
            "   2.3267038   -7.824947    -2.6285498   -2.5436609    1.5193489\n",
            " -11.579835    -3.7660534   -9.409909    -2.695664    -4.7280855\n",
            "  -0.22173283]\n"
          ]
        }
      ]
    },
    {
      "cell_type": "markdown",
      "source": [
        "###The maximum and minimum of pssm\n",
        "by .max and .min properties"
      ],
      "metadata": {
        "id": "6Q78V4vY_lk3"
      }
    },
    {
      "cell_type": "code",
      "source": [
        "print(\"%4.2f\" % pssm.max)\n",
        "print(\"%4.2f\" % pssm.min)"
      ],
      "metadata": {
        "colab": {
          "base_uri": "https://localhost:8080/"
        },
        "id": "3O_23ZpZ_g1e",
        "outputId": "dded315d-5ff2-4dab-e299-9f3e6534059a"
      },
      "execution_count": 36,
      "outputs": [
        {
          "output_type": "stream",
          "name": "stdout",
          "text": [
            "6.63\n",
            "-11.58\n"
          ]
        }
      ]
    },
    {
      "cell_type": "markdown",
      "source": [
        "> - The \" % \" acts as a placeholder to pass the the value to it.\n",
        "- While % pssm.max is the vlaue that will passed in the \"%4.2f\".\n",
        "- the 4.2f means we only want two decimal digits after the dot sign.<br>\n",
        "هات رقمين بعد العلامه بس"
      ],
      "metadata": {
        "id": "5-PHnh0h_wnm"
      }
    },
    {
      "cell_type": "markdown",
      "source": [
        "###The mean and standard deviation"
      ],
      "metadata": {
        "id": "HaKfS1n7AwBJ"
      }
    },
    {
      "cell_type": "code",
      "source": [
        "mean = pssm.mean(background)\n",
        "std = pssm.std(background)\n",
        "print(\"mean = %0.2f, standard deviation = %0.2f\" % (mean, std))"
      ],
      "metadata": {
        "colab": {
          "base_uri": "https://localhost:8080/"
        },
        "id": "Fk6mwQa-Ax7s",
        "outputId": "b0ff5f19-7e9d-4092-a742-8c629fed5a1d"
      },
      "execution_count": 37,
      "outputs": [
        {
          "output_type": "stream",
          "name": "stdout",
          "text": [
            "mean = 3.21, standard deviation = 2.60\n"
          ]
        }
      ]
    },
    {
      "cell_type": "markdown",
      "source": [
        "##**Searching**"
      ],
      "metadata": {
        "id": "ZZxTMqwQI7uw"
      }
    },
    {
      "cell_type": "markdown",
      "source": [
        "### Searching for a motifs/instances\n",
        "we're going to search for motifs\n"
      ],
      "metadata": {
        "id": "EfxMRW7fCNvu"
      }
    },
    {
      "cell_type": "code",
      "source": [
        "for pos, found_motifs in motifs_seq.instances.search(dna_sequence):\n",
        " print(\"%i %s\" % (pos, found_motifs))"
      ],
      "metadata": {
        "id": "7t4MS_m8Az4e"
      },
      "execution_count": 44,
      "outputs": []
    },
    {
      "cell_type": "markdown",
      "source": [
        "To search for motifs we're going to use motifs_srquence.instances.search(sequence)\n",
        "- Find positions of motifs in a given sequence.\n",
        "- It returns found positions of motif\n",
        "instances, and the found motifs sequence.\n",
        "-  motifs_seq.instances.search(sequence) means: search for the motifs in the motifs_seq object in the given sequence."
      ],
      "metadata": {
        "id": "PQhtr7iNDQnx"
      }
    },
    {
      "cell_type": "markdown",
      "source": [
        "#### Searching for motifs in the reverse complement of DNA seq"
      ],
      "metadata": {
        "id": "mjnu2U2MHDmA"
      }
    },
    {
      "cell_type": "code",
      "source": [
        "for pos, found_motifs in motifs_seq.instances.search(reversed_dna):\n",
        " print(\"%i %s\" % (pos, found_motifs))"
      ],
      "metadata": {
        "id": "HcJWWxizF4ww"
      },
      "execution_count": 43,
      "outputs": []
    },
    {
      "cell_type": "markdown",
      "source": [
        "###Searching Using the PSSM Score"
      ],
      "metadata": {
        "id": "9eUfrUXUJFAa"
      }
    },
    {
      "cell_type": "code",
      "source": [
        "for pos, score in pssm.search(dna_sequence, threshold=3.0):\n",
        " print(\"Position %d: score = %5.3f\" % (pos, score))"
      ],
      "metadata": {
        "id": "GAk6_gnLIHID",
        "colab": {
          "base_uri": "https://localhost:8080/"
        },
        "outputId": "83cc803a-3037-4289-ba16-a7d5ed71f763"
      },
      "execution_count": 45,
      "outputs": [
        {
          "output_type": "stream",
          "name": "stdout",
          "text": [
            "Position 0: score = 3.841\n",
            "Position -119: score = 3.312\n",
            "Position -117: score = 4.426\n",
            "Position -68: score = 4.064\n",
            "Position 130: score = 3.479\n"
          ]
        }
      ]
    },
    {
      "cell_type": "markdown",
      "source": [
        "> simply we will search in pssm matrix by using search() function,\n",
        "- function paramters are the given sequence and the threshold"
      ],
      "metadata": {
        "id": "BorDhk1kJ7Ex"
      }
    },
    {
      "cell_type": "markdown",
      "source": [
        "--------------"
      ],
      "metadata": {
        "id": "UZfQfP6QKmZX"
      }
    }
  ]
}