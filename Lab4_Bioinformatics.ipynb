{
  "nbformat": 4,
  "nbformat_minor": 0,
  "metadata": {
    "colab": {
      "name": "Lab4_Bioinformatics.ipynb",
      "provenance": [],
      "collapsed_sections": [
        "wbLWTKd5VXzV",
        "W_nNz8cSyWVJ",
        "YTDBq-xoAkYr",
        "6uqhYkPiC8R5",
        "u45mJU0sLakC",
        "Xexslz4lL6jl",
        "b3hDQunqhntv"
      ]
    },
    "kernelspec": {
      "name": "python3",
      "display_name": "Python 3"
    },
    "language_info": {
      "name": "python"
    }
  },
  "cells": [
    {
      "cell_type": "markdown",
      "source": [
        "##**Importing Section**"
      ],
      "metadata": {
        "id": "wbLWTKd5VXzV"
      }
    },
    {
      "cell_type": "code",
      "execution_count": null,
      "metadata": {
        "id": "VQf5I8j-sQct"
      },
      "outputs": [],
      "source": [
        "pip install biopython"
      ]
    },
    {
      "cell_type": "code",
      "source": [
        "import Bio \n",
        "from Bio.Seq import Seq # this one to create sequences\n",
        "from Bio import SeqIO #this lib to read and files\n",
        "from Bio import Entrez #Provides code to access NCBI over the WWW\n",
        "from Bio import motifs #for creating motifes objects"
      ],
      "metadata": {
        "id": "PF-ZaM7KxP0u"
      },
      "execution_count": 27,
      "outputs": []
    },
    {
      "cell_type": "code",
      "source": [
        "#سيبك من الامبورت  دول ملناش دعوه بيهم\n",
        "import matplotlib.image as mpimg\n",
        "import matplotlib.pyplot as plt"
      ],
      "metadata": {
        "id": "1jss6k39G1uW"
      },
      "execution_count": 49,
      "outputs": []
    },
    {
      "cell_type": "markdown",
      "source": [
        "##**Start initializing**\n"
      ],
      "metadata": {
        "id": "W_nNz8cSyWVJ"
      }
    },
    {
      "cell_type": "code",
      "source": [
        "seq = Seq(\"AGTACACTGGT\")\n",
        "onther_seq = \"aaaggtttaacca\""
      ],
      "metadata": {
        "id": "7c0vYb5zybEV"
      },
      "execution_count": 35,
      "outputs": []
    },
    {
      "cell_type": "markdown",
      "source": [
        "##**Converting to RNA and back to DNA**<br>\n",
        "notice the U nucleotide in RNA seq <br>\n",
        "the protein converts every 3 nucleotides to codon, every codon is converted to single amino acid \n"
      ],
      "metadata": {
        "id": "YTDBq-xoAkYr"
      }
    },
    {
      "cell_type": "code",
      "source": [
        "rna_seq = seq.transcribe()\n",
        "dna_seq = rna_seq.back_transcribe()\n",
        "protein_seq = rna_seq.translate()\n",
        "\n",
        "print(\"This is the sequence:\", seq)\n",
        "print(\"Transcribted RNA Seq: \",rna_seq)\n",
        "print(\"Back to Dna: \",dna_seq)\n",
        "print(\"Translated RNA to protein\",protein_seq)\n",
        "print('---------')"
      ],
      "metadata": {
        "colab": {
          "base_uri": "https://localhost:8080/"
        },
        "id": "UhfSegauAQAv",
        "outputId": "36fb055a-77a0-444c-b8a1-0096cc195823"
      },
      "execution_count": 36,
      "outputs": [
        {
          "output_type": "stream",
          "name": "stdout",
          "text": [
            "This is the sequence: AGTACACTGGT\n",
            "Transcribted RNA Seq:  AGUACACUGGU\n",
            "Back to Dna:  AGTACACTGGT\n",
            "Translated RNA to protein STL\n",
            "---------\n"
          ]
        },
        {
          "output_type": "stream",
          "name": "stderr",
          "text": [
            "/usr/local/lib/python3.7/dist-packages/Bio/Seq.py:2983: BiopythonWarning: Partial codon, len(sequence) not a multiple of three. Explicitly trim the sequence or add trailing N before translation. This may become an error in future.\n",
            "  BiopythonWarning,\n"
          ]
        }
      ]
    },
    {
      "cell_type": "markdown",
      "source": [
        "- .transcribe() brings the rna from the dna single strand sequence\n",
        "- .back_transcribe() brings back dna single strand sequence from rna sequence \n",
        "- notice the protein is converted to STL"
      ],
      "metadata": {
        "id": "7_XBrj5NCsT2"
      }
    },
    {
      "cell_type": "markdown",
      "source": [
        "# **Reading and oprating on sequence file**<br>\n"
      ],
      "metadata": {
        "id": "6uqhYkPiC8R5"
      }
    },
    {
      "cell_type": "markdown",
      "source": [
        "##Reading and oprating on dawnloaded sequence file\n",
        "using SeqIO.parse to read dawnloaded sequence file"
      ],
      "metadata": {
        "id": "u45mJU0sLakC"
      }
    },
    {
      "cell_type": "code",
      "source": [
        "filename = 'sequence.fasta'\n",
        "extension = 'fasta'\n",
        "#print the seq id, the seq, seq name, seq description. seq report\n",
        "for record in SeqIO.parse(filename, extension):\n",
        "  report = repr(record)\n",
        "  print(record.id)\n",
        "  print(record.seq)\n",
        "  print(record.name)\n",
        "  print(record.description)\n",
        "  print(report)"
      ],
      "metadata": {
        "colab": {
          "base_uri": "https://localhost:8080/"
        },
        "id": "uTnK2iwoAaVu",
        "outputId": "5381285a-ec0c-4562-d7e4-0319c2bafc21"
      },
      "execution_count": 37,
      "outputs": [
        {
          "output_type": "stream",
          "name": "stdout",
          "text": [
            "AF191665.1\n",
            "TATACATTAAAGGAGGGGGATGCGGATAAATGGAAAGGCGAAAGAAAGAAAAAAATGAATCTAAATGATATAGGATTCCACTATGTAAGGTCTTTGAATCATATCATAAAAGACAATGTAATAAAGCATGAATACAGATTCACACATAATTATCTGATATGAATCTATTCATAGAAAAAAGAAAAAAGTAAGAGCCTCCGGCCAATAAAGACTAAGAGGGTTGGCTCAAGAACAAAGTTCATTAAGAGCTCCATTGTAGAATTCAGACCTAATCATTAATCAAGAAGCGATGGGAACGATGTAATCCATGAATACAGAAGATTCAATTGAAAAAGATCCTATGNTCATTGGAAGGATGGCGGAACGAACCAGAGACCAATTCATCTATTCTGAAAAGTGATAAACTAATCCTATAAAACTAAAATAGATATTGAAAGAGTAAATATTCGCCCGCGAAAATTCCTTTTTTATTAAATTGCTCATATTTTCTTTTAGCAATGCAATCTAATAAAATATATCTATACAAAAAAACATAGACAAACTATATATATATATATATATAATATATTTCAAATTCCCTTATATATCCAAATATAAAAATATCTAATAAATTAGATGAATATCAAAGAATCTATTGATTTAGTGTATTATTAAATGTATATATTAATTCAATATTATTATTCTATTCATTTTTATTCATTTTCAAATTTATAATATATTAATCTATATATTAATTTAGAATTCTATTCTAATTCGAATTCAATTTTTAAATATTCATATTCAATTAAAATTGAAATTTTTTCATTCGCGAGGAGCCGGATGAGAAGAAACTCTCATGTCCGGTTCTGTAGTAGAGATGGAATTAAGAAAAAACCATCAACTATAACCCCAAAAGAACCAGA\n",
            "AF191665.1\n",
            "AF191665.1 Opuntia marenae rpl16 gene; chloroplast gene for chloroplast product, partial intron sequence\n",
            "SeqRecord(seq=Seq('TATACATTAAAGGAGGGGGATGCGGATAAATGGAAAGGCGAAAGAAAGAAAAAA...AGA'), id='AF191665.1', name='AF191665.1', description='AF191665.1 Opuntia marenae rpl16 gene; chloroplast gene for chloroplast product, partial intron sequence', dbxrefs=[])\n"
          ]
        }
      ]
    },
    {
      "cell_type": "markdown",
      "source": [
        "- SeqIO.parse(filename, extension)\n",
        "- This function reads file and returns a SeqRecord iterator.\n",
        "- This lets you bring the id, seq, name, description.\n",
        "- Sequence report prints the whole forementioned paramters.\n",
        "- First paramter is either called filename or handler.\n",
        "\n"
      ],
      "metadata": {
        "id": "Cy8udEqqE6ao"
      }
    },
    {
      "cell_type": "markdown",
      "source": [
        "##Reading and oprating online sequence file<br>\n",
        "- this Bio.Entrez package provides code to access NCBI website over the internet\n",
        "-  NCBI website is where we bring any gene sequence.. DNA, RNA, proteins or whatever\n",
        "- This module provides a number of functions like efetch (short for Entrez Fetch) which will return the data as a handle object.\n",
        "- We have mentioned before it's either called file, or handler."
      ],
      "metadata": {
        "id": "Xexslz4lL6jl"
      }
    },
    {
      "cell_type": "markdown",
      "source": [
        "- use SeqIO.read() to read online files\n"
      ],
      "metadata": {
        "id": "wRzQoalcU6et"
      }
    },
    {
      "cell_type": "code",
      "source": [
        "#any email example to not generate an error\n",
        "Entrez.email = 'example@gmail.com'\n",
        "\n",
        "#this will create an file or record with the whole online records\n",
        "handle = Entrez.efetch(db=\"nucleotide\", id=\"AY851612\", rettype=\"fasta\")\n",
        "\n",
        "#now read this file\n",
        "seq_record = SeqIO.read(handle,\"fasta\")\n",
        "\n",
        "seq_report = repr(seq_record)\n",
        "print(seq_record.id)\n",
        "print(seq_record.seq)\n",
        "print(seq_record.name)\n",
        "print(seq_record.description)\n",
        "print(seq_report)"
      ],
      "metadata": {
        "id": "3COiS2hLGBi-",
        "colab": {
          "base_uri": "https://localhost:8080/"
        },
        "outputId": "0b6b4df6-31dc-47c8-f283-97ab26f09daf"
      },
      "execution_count": 38,
      "outputs": [
        {
          "output_type": "stream",
          "name": "stdout",
          "text": [
            "AY851612.1\n",
            "CATTAAAGAAGGGGGATGCGGATAAATGGAAAGGCGAAAGAAAGAAAAAAATGAATCTAAATGATATACGATTCCACTATGTAAGGTCTTTGAATCATATCATAAAAGACAATGTAATAAAGCATGAATACAGATTCACACATAATTATCTGATATGAATCTATTCATAGAAAAAAGAAAAAAGTAAGAGCCTCCGGCCAATAAAGACTAAGAGGGTTGGCTCAAGAACAAAGTTCATTAAGAGCTCCATTGTAGAATTCAGACCTAATCATTAATCAAGAAGCGATGGGAACGATGTAATCCATGAATACAGAAGATTCAATTGAAAAAGATCCTAATGATCATTGGGAAGGATGGCGGAACGAACCAGAGACCAATTCATCTATTCTGAAAAGTGATAAACTAATCCTATAAAACTAAAATAGATATTGAAAGAGTAAATATTCGCCCGCGAAAATTCCTTTTTTATTAAATTGCTCATATTTTATTTTAGCAATGCAATCTAATAAAATATATCTATACAAAAAAATATAGACAAACTATATATATATAATATATTTCAAATTTCCTTATATACCCAAATATAAAAATATCTAATAAATTAGATGAATATCAAAGAATCTATTGATTTAGTGTATTATTAAATGTATATCTTAATTCAATATTATTATTCTATTCATTTTTATTCATTTTCAAATTTATAATATATTAATCTATATATTAATTTATAATTCTATTCTAATTCGAATTCAATTTTTAAATATTCATATTCAATTAAAATTGAAATTTTTTCATTCGCGAGGAGCCGGATGAGAAGAAACTCTCATGTCCGGTTCTGTAGTAGAGATGGAATTAAGAAAAAACCATCAACTATAACCCCAAGAGAACCAGA\n",
            "AY851612.1\n",
            "AY851612.1 Opuntia subulata rpl16 gene, intron; chloroplast\n",
            "SeqRecord(seq=Seq('CATTAAAGAAGGGGGATGCGGATAAATGGAAAGGCGAAAGAAAGAAAAAAATGA...AGA'), id='AY851612.1', name='AY851612.1', description='AY851612.1 Opuntia subulata rpl16 gene, intron; chloroplast', dbxrefs=[])\n"
          ]
        }
      ]
    },
    {
      "cell_type": "markdown",
      "source": [
        "Entrez.efetch(db=\"nucleotide\", id=\"AY851612\", rettype=\"fasta\") <br>\n",
        "- we now fetching and dawnloading sequence online..\n",
        "- then we're selecting the db type, the id of the record, rettype is the file extension. \n",
        "- after this we going to read the file with SeqIO.read()"
      ],
      "metadata": {
        "id": "_Bzt95jSNtnW"
      }
    },
    {
      "cell_type": "markdown",
      "source": [
        "#**Motifs objects**\n",
        "- We are preparing to print motifs, so all motifs should be same length."
      ],
      "metadata": {
        "id": "6vasQMG6eNQg"
      }
    },
    {
      "cell_type": "markdown",
      "source": [
        "###Creating Motif object and print length\n"
      ],
      "metadata": {
        "id": "CXn5dF9mnAI9"
      }
    },
    {
      "cell_type": "code",
      "source": [
        "instances = [Seq(\"TACAA\"),\n",
        "             Seq(\"TACGC\"),\n",
        "             Seq(\"TACAC\"),\n",
        "             Seq(\"TACCC\"),\n",
        "             Seq(\"AACCC\"),\n",
        "             Seq(\"AATGC\"),\n",
        "             Seq(\"AATGC\")]\n",
        "#lets see the uptput when printing the sequenceses list\n",
        "print(instances)"
      ],
      "metadata": {
        "colab": {
          "base_uri": "https://localhost:8080/"
        },
        "id": "SmGi80l8RrZS",
        "outputId": "9522285a-ecbd-4f0c-ea4b-28f181b9ca59"
      },
      "execution_count": 39,
      "outputs": [
        {
          "output_type": "stream",
          "name": "stdout",
          "text": [
            "[Seq('TACAA'), Seq('TACGC'), Seq('TACAC'), Seq('TACCC'), Seq('AACCC'), Seq('AATGC'), Seq('AATGC')]\n"
          ]
        }
      ]
    },
    {
      "cell_type": "markdown",
      "source": [
        ">It printed as an list with the Seq object, but we want to print it as sequences not a python list:\"(<br>"
      ],
      "metadata": {
        "id": "zwQV1gAAfRPP"
      }
    },
    {
      "cell_type": "markdown",
      "source": [
        "So here is the soultion, using motifs object we imported before..<br>\n",
        "Remember, all motifs should have same length"
      ],
      "metadata": {
        "id": "npHnaeQehSFH"
      }
    },
    {
      "cell_type": "code",
      "source": [
        "motifs_seq = motifs.create(instances)\n",
        "#and here we go! solved!\n",
        "print(motifs_seq)"
      ],
      "metadata": {
        "colab": {
          "base_uri": "https://localhost:8080/"
        },
        "id": "9pE_JXtvfPbs",
        "outputId": "f6c3e9b6-3a5c-42c6-8ba8-06a31fae9892"
      },
      "execution_count": 40,
      "outputs": [
        {
          "output_type": "stream",
          "name": "stdout",
          "text": [
            "TACAA\n",
            "TACGC\n",
            "TACAC\n",
            "TACCC\n",
            "AACCC\n",
            "AATGC\n",
            "AATGC\n",
            "\n"
          ]
        }
      ]
    },
    {
      "cell_type": "code",
      "source": [
        "print(len(motifs_seq))"
      ],
      "metadata": {
        "colab": {
          "base_uri": "https://localhost:8080/"
        },
        "id": "IHeL76SWgiKE",
        "outputId": "a907063f-6959-43e9-a10a-5af099c499bb"
      },
      "execution_count": 41,
      "outputs": [
        {
          "output_type": "stream",
          "name": "stdout",
          "text": [
            "5\n"
          ]
        }
      ]
    },
    {
      "cell_type": "markdown",
      "source": [
        "###Using counts attribute of motifs\n",
        "The Motif object has an attribute counts. it counts each nucleotide at each position. Printing this counts matrix shows it in an easily readable format:"
      ],
      "metadata": {
        "id": "b3hDQunqhntv"
      }
    },
    {
      "cell_type": "code",
      "source": [
        "motifs_counts = motifs_seq.counts\n",
        "print(motifs_counts)"
      ],
      "metadata": {
        "colab": {
          "base_uri": "https://localhost:8080/"
        },
        "id": "JiFwppdohbl2",
        "outputId": "d67411d5-acb0-4999-a4bf-9203c65a3a26"
      },
      "execution_count": 42,
      "outputs": [
        {
          "output_type": "stream",
          "name": "stdout",
          "text": [
            "        0      1      2      3      4\n",
            "A:   3.00   7.00   0.00   2.00   1.00\n",
            "C:   0.00   0.00   5.00   2.00   6.00\n",
            "G:   0.00   0.00   0.00   3.00   0.00\n",
            "T:   4.00   0.00   2.00   0.00   0.00\n",
            "\n"
          ]
        }
      ]
    },
    {
      "cell_type": "markdown",
      "source": [
        "- So we have 4 nucleotides letters represented in rows.\n",
        "- The column names are indexes of the motifes. since the lenght of the whole motifs are 5, the index starts from 0 to 4."
      ],
      "metadata": {
        "id": "cGz9LsQxi2Z1"
      }
    },
    {
      "cell_type": "markdown",
      "source": [
        "####using counts output as a python dictionary"
      ],
      "metadata": {
        "id": "Z8vKasxJjeRM"
      }
    },
    {
      "cell_type": "code",
      "source": [
        "# all the 3 lines will print the same output\n",
        "print(motifs_counts['A']) # or you can do this\n",
        "print(motifs_counts['A',:]) # or this\n",
        "print(motifs_counts[0,:])"
      ],
      "metadata": {
        "colab": {
          "base_uri": "https://localhost:8080/"
        },
        "id": "c7HceczVibxw",
        "outputId": "c5d3c487-65a1-49c8-c3ee-3c69aef4f4c9"
      },
      "execution_count": 43,
      "outputs": [
        {
          "output_type": "stream",
          "name": "stdout",
          "text": [
            "[3, 7, 0, 2, 1]\n",
            "(3, 7, 0, 2, 1)\n",
            "(3, 7, 0, 2, 1)\n"
          ]
        }
      ]
    },
    {
      "cell_type": "markdown",
      "source": [
        "- print row A in all columns from 0 to 4\n",
        "> -  this means that the A showed in the first column 3 times, second column 7 times, third coulmn 0 times, and so on. \n",
        "- Instead of using the name of the nucleotide itself, you can use the index of the nucleotide in the alphabet of the motif"
      ],
      "metadata": {
        "id": "l2HXAEe0kI8P"
      }
    },
    {
      "cell_type": "code",
      "source": [
        "motifs_counts['A',0]"
      ],
      "metadata": {
        "colab": {
          "base_uri": "https://localhost:8080/"
        },
        "id": "8Il7rryfj4ab",
        "outputId": "62356ccc-89e2-4de7-f767-faf0b76bc9e9"
      },
      "execution_count": 44,
      "outputs": [
        {
          "output_type": "execute_result",
          "data": {
            "text/plain": [
              "3"
            ]
          },
          "metadata": {},
          "execution_count": 44
        }
      ]
    },
    {
      "cell_type": "markdown",
      "source": [
        "- this means how many A showed in column 0  "
      ],
      "metadata": {
        "id": "Td-NdfjWkjoX"
      }
    },
    {
      "cell_type": "markdown",
      "source": [
        "### Using consensus and anticonsensus attributes of motifs\n"
      ],
      "metadata": {
        "id": "BgZU7i7Wmhkq"
      }
    },
    {
      "cell_type": "markdown",
      "source": [
        "consensus means to see which letter is more repeated in each column"
      ],
      "metadata": {
        "id": "uqo6QDn7n87m"
      }
    },
    {
      "cell_type": "code",
      "source": [
        "print(motifs_counts.consensus)"
      ],
      "metadata": {
        "colab": {
          "base_uri": "https://localhost:8080/"
        },
        "id": "lH92_qIEmg_T",
        "outputId": "07b128a5-245f-46a6-ceec-e570fbb7c81d"
      },
      "execution_count": 45,
      "outputs": [
        {
          "output_type": "stream",
          "name": "stdout",
          "text": [
            "TACGC\n"
          ]
        }
      ]
    },
    {
      "cell_type": "markdown",
      "source": [
        "- this means T letter is the most repeated letter in first column, A in second column, C in third column and so on\n"
      ],
      "metadata": {
        "id": "Eh3hRxCaosrI"
      }
    },
    {
      "cell_type": "markdown",
      "source": [
        "anticonsensus means to see which letter is least repeated in each column"
      ],
      "metadata": {
        "id": "K2hn6w5-pSz0"
      }
    },
    {
      "cell_type": "code",
      "source": [
        "print(motifs_counts.anticonsensus)"
      ],
      "metadata": {
        "colab": {
          "base_uri": "https://localhost:8080/"
        },
        "id": "guBtU-0gorX9",
        "outputId": "dce65bbe-7198-4481-83c2-253dece39d00"
      },
      "execution_count": 46,
      "outputs": [
        {
          "output_type": "stream",
          "name": "stdout",
          "text": [
            "CCATG\n"
          ]
        }
      ]
    },
    {
      "cell_type": "markdown",
      "source": [
        "- this means C letter is the least repeated letter in first column, C in second column, A in third column and so on\n"
      ],
      "metadata": {
        "id": "yynen92nphjp"
      }
    },
    {
      "cell_type": "markdown",
      "source": [
        "###Motif logo \n",
        "can works only through online"
      ],
      "metadata": {
        "id": "5SEIOBm4p40B"
      }
    },
    {
      "cell_type": "code",
      "source": [
        "motifs_seq.weblogo(\"mymotif.png\")"
      ],
      "metadata": {
        "id": "gzy8XRn5qByI"
      },
      "execution_count": 47,
      "outputs": []
    },
    {
      "cell_type": "markdown",
      "source": [
        "- weblogo('imagename')\n",
        "- it creats an graphical logo for the most and least repeated motifs letters\n",
        "- it onyl works through internet connection"
      ],
      "metadata": {
        "id": "rO8uTpeUqOQc"
      }
    },
    {
      "cell_type": "markdown",
      "source": [
        "----------"
      ],
      "metadata": {
        "id": "b7zKJ11oHO4A"
      }
    },
    {
      "cell_type": "markdown",
      "source": [
        "سيبك من الكود الي جاي انا عايزه اوريك اللوجو\n",
        "\n"
      ],
      "metadata": {
        "id": "lvtt4HnIHGaD"
      }
    },
    {
      "cell_type": "code",
      "source": [
        "img = mpimg.imread('mymotif.png')\n",
        "imgplot = plt.imshow(img)\n",
        "plt.show()"
      ],
      "metadata": {
        "colab": {
          "base_uri": "https://localhost:8080/",
          "height": 268
        },
        "id": "Ym6eknAyGkJ4",
        "outputId": "54d978da-4ca8-4bec-ae59-841de9260f49"
      },
      "execution_count": 48,
      "outputs": [
        {
          "output_type": "display_data",
          "data": {
            "image/png": "[encoded data removed]",
            "text/plain": [
              "<Figure size 432x288 with 1 Axes>"
            ]
          },
          "metadata": {
            "needs_background": "light"
          }
        }
      ]
    }
  ]
}