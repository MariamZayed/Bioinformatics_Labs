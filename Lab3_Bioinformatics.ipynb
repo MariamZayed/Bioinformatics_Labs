{
  "nbformat": 4,
  "nbformat_minor": 0,
  "metadata": {
    "colab": {
      "name": "Lab3_Bioinformatics.ipynb",
      "provenance": [],
      "collapsed_sections": [],
      "authorship_tag": "ABX9TyPZVuTNECTuCL0aTBHQ2Nw4",
      "include_colab_link": true
    },
    "kernelspec": {
      "name": "python3",
      "display_name": "Python 3"
    },
    "language_info": {
      "name": "python"
    }
  },
  "cells": [
    {
      "cell_type": "markdown",
      "metadata": {
        "id": "view-in-github",
        "colab_type": "text"
      },
      "source": [
        "<a href=\"https://colab.research.google.com/github/MariamZayed/Bioinformatics_Labs/blob/main/Lab3_Bioinformatics.ipynb\" target=\"_parent\"><img src=\"https://colab.research.google.com/assets/colab-badge.svg\" alt=\"Open In Colab\"/></a>"
      ]
    },
    {
      "cell_type": "markdown",
      "source": [
        "##Importing Section"
      ],
      "metadata": {
        "id": "wbLWTKd5VXzV"
      }
    },
    {
      "cell_type": "code",
      "execution_count": null,
      "metadata": {
        "colab": {
          "base_uri": "https://localhost:8080/"
        },
        "id": "VQf5I8j-sQct",
        "outputId": "d3dc7bb8-ea74-480a-b27a-8b16e2f306dd"
      },
      "outputs": [
        {
          "output_type": "stream",
          "name": "stdout",
          "text": [
            "Collecting biopython\n",
            "  Downloading biopython-1.79-cp37-cp37m-manylinux_2_5_x86_64.manylinux1_x86_64.whl (2.3 MB)\n",
            "\u001b[K     |████████████████████████████████| 2.3 MB 5.0 MB/s \n",
            "\u001b[?25hRequirement already satisfied: numpy in /usr/local/lib/python3.7/dist-packages (from biopython) (1.19.5)\n",
            "Installing collected packages: biopython\n",
            "Successfully installed biopython-1.79\n"
          ]
        }
      ],
      "source": [
        "pip install biopython"
      ]
    },
    {
      "cell_type": "code",
      "source": [
        "import Bio as bio\n",
        "from Bio.Seq import Seq"
      ],
      "metadata": {
        "id": "PF-ZaM7KxP0u"
      },
      "execution_count": null,
      "outputs": []
    },
    {
      "cell_type": "markdown",
      "source": [
        "##Start initializing\n"
      ],
      "metadata": {
        "id": "W_nNz8cSyWVJ"
      }
    },
    {
      "cell_type": "code",
      "source": [
        "print(bio.__version__)"
      ],
      "metadata": {
        "colab": {
          "base_uri": "https://localhost:8080/"
        },
        "id": "wgHAfAANyAV_",
        "outputId": "4072fe57-d65e-478b-bf54-31aab6ec1c3c"
      },
      "execution_count": null,
      "outputs": [
        {
          "output_type": "stream",
          "name": "stdout",
          "text": [
            "1.79\n"
          ]
        }
      ]
    },
    {
      "cell_type": "code",
      "source": [
        "seq = Seq(\"AGTACACTGGT\")\n",
        "onther_seq = \"aaaggtttaacca\""
      ],
      "metadata": {
        "id": "7c0vYb5zybEV"
      },
      "execution_count": null,
      "outputs": []
    },
    {
      "cell_type": "markdown",
      "source": [
        "##Functions with Seq objects"
      ],
      "metadata": {
        "id": "1diNPp5dq7Ci"
      }
    },
    {
      "cell_type": "code",
      "source": [
        "#Complement and reverse of string  \n",
        "print(seq)\n",
        "print(seq.complement())\n",
        "print(seq.reverse_complement())"
      ],
      "metadata": {
        "colab": {
          "base_uri": "https://localhost:8080/"
        },
        "id": "-qqdxOgzrCkP",
        "outputId": "f93fb514-d576-4f75-9511-7e8d728745ba"
      },
      "execution_count": null,
      "outputs": [
        {
          "output_type": "stream",
          "name": "stdout",
          "text": [
            "AGTACACTGGT\n",
            "TCATGTGACCA\n",
            "ACCAGTGTACT\n"
          ]
        }
      ]
    },
    {
      "cell_type": "code",
      "source": [
        "#this ia a loop to print each index and its value\n",
        "for index, string in enumerate(seq):\n",
        "  print(\"%i %s\" % (index, string))"
      ],
      "metadata": {
        "colab": {
          "base_uri": "https://localhost:8080/"
        },
        "id": "pabd3aQiVuZ0",
        "outputId": "a5badafe-bef4-424b-8163-1ad4ff125ee5"
      },
      "execution_count": null,
      "outputs": [
        {
          "output_type": "stream",
          "name": "stdout",
          "text": [
            "0 A\n",
            "1 G\n",
            "2 T\n",
            "3 A\n",
            "4 C\n",
            "5 A\n",
            "6 C\n",
            "7 T\n",
            "8 G\n",
            "9 G\n",
            "10 T\n"
          ]
        }
      ]
    },
    {
      "cell_type": "markdown",
      "source": [
        "- enumrate() function <br>\n",
        "when dealing with iterations, we get a need to keep a count of iterations. Python eases the programmers’ task by providing a built-in function enumerate() for this task.\n",
        "\n",
        "- The %i %s % (index, string) <br>\n",
        "%i acts as a placeholder for a indexes while %s acts a placeholder for a string, so throw the index var in %i and the string in %s"
      ],
      "metadata": {
        "id": "3n20TXGyXUDH"
      }
    },
    {
      "cell_type": "code",
      "source": [
        "#You can print Seq object indexes\n",
        "print(seq[0])\n",
        "print(seq[1])\n",
        "#to print last index\n",
        "print(seq[-1])"
      ],
      "metadata": {
        "colab": {
          "base_uri": "https://localhost:8080/"
        },
        "id": "t9fsuJqKWW4G",
        "outputId": "9c6de19b-c3b0-4451-931c-e799cebfc581"
      },
      "execution_count": null,
      "outputs": [
        {
          "output_type": "stream",
          "name": "stdout",
          "text": [
            "A\n",
            "G\n",
            "T\n"
          ]
        }
      ]
    },
    {
      "cell_type": "code",
      "source": [
        "#You can count repeated strings with Seq object\n",
        "result = Seq('AAAA').count('AA')\n",
        "onter_result = 'AAAA'.count('AA')\n",
        "\n",
        "print(result)\n",
        "print(onter_result)"
      ],
      "metadata": {
        "colab": {
          "base_uri": "https://localhost:8080/"
        },
        "id": "o-B-HMIDkKja",
        "outputId": "ffeba5ef-cf41-4b44-8f02-0e992981d4db"
      },
      "execution_count": null,
      "outputs": [
        {
          "output_type": "stream",
          "name": "stdout",
          "text": [
            "2\n",
            "2\n"
          ]
        }
      ]
    },
    {
      "cell_type": "markdown",
      "source": [
        "- this function counts how many times did the target repeates.<br>\n",
        "so the AA repeated 2 times"
      ],
      "metadata": {
        "id": "DPFKT8CFk5LY"
      }
    },
    {
      "cell_type": "code",
      "source": [
        "#You can bring the len of Seq object as an string \n",
        "len(seq)"
      ],
      "metadata": {
        "colab": {
          "base_uri": "https://localhost:8080/"
        },
        "id": "8Od0RIMvk3L1",
        "outputId": "6f24a4f0-7037-46f6-9a75-2b994447abfc"
      },
      "execution_count": null,
      "outputs": [
        {
          "output_type": "execute_result",
          "data": {
            "text/plain": [
              "11"
            ]
          },
          "metadata": {},
          "execution_count": 9
        }
      ]
    },
    {
      "cell_type": "code",
      "source": [
        "print('This is the whole seq '+seq)\n",
        "\n",
        "#You can slice a Seq object\n",
        "#list[start:end:step]\n",
        "print('4:12>> '+seq[4:12])\n",
        "\n",
        "#This means 0:0:3\n",
        "print('0::3>> '+seq[0::3])\n",
        "print('1::3>> '+seq[1::3])\n",
        "print('2::3>> '+seq[2::3])\n",
        "#this is the inversed string\n",
        "print('::-1>> '+seq[::-1])"
      ],
      "metadata": {
        "colab": {
          "base_uri": "https://localhost:8080/"
        },
        "id": "Y_WQkThXm_WQ",
        "outputId": "5d42389a-5585-4e0d-d128-e2973bb679fa"
      },
      "execution_count": null,
      "outputs": [
        {
          "output_type": "stream",
          "name": "stdout",
          "text": [
            "This is the whole seq AGTACACTGGT\n",
            "4:12>> CACTGGT\n",
            "0::3>> AACG\n",
            "1::3>> GCTT\n",
            "2::3>> TAG\n",
            "::-1>> TGGTCACATGA\n"
          ]
        }
      ]
    },
    {
      "cell_type": "code",
      "source": [
        "#print lower and upper case for the strings\\\n",
        "print(onther_seq.upper())\n",
        "print(seq.lower())"
      ],
      "metadata": {
        "colab": {
          "base_uri": "https://localhost:8080/"
        },
        "id": "XVQjbLtOnUCH",
        "outputId": "513de428-00c7-417b-f6d7-23a11ed79379"
      },
      "execution_count": null,
      "outputs": [
        {
          "output_type": "stream",
          "name": "stdout",
          "text": [
            "AAAGGTTTAACCA\n",
            "agtacactggt\n"
          ]
        }
      ]
    },
    {
      "cell_type": "code",
      "source": [
        "#You can compare Seq objects\n",
        "print(seq=='AGTACACTGGT')"
      ],
      "metadata": {
        "colab": {
          "base_uri": "https://localhost:8080/"
        },
        "id": "YX8xvwG2po8L",
        "outputId": "c9ae3511-7d62-43a3-bc5e-426635cfdf92"
      },
      "execution_count": null,
      "outputs": [
        {
          "output_type": "stream",
          "name": "stdout",
          "text": [
            "True\n"
          ]
        }
      ]
    }
  ]
}