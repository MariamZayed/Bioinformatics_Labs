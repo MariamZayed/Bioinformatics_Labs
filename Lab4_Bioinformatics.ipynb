{
  "nbformat": 4,
  "nbformat_minor": 0,
  "metadata": {
    "colab": {
      "name": "Lab4_Bioinformatics.ipynb",
      "provenance": [],
      "collapsed_sections": [
        "wbLWTKd5VXzV",
        "W_nNz8cSyWVJ",
        "YTDBq-xoAkYr",
        "6uqhYkPiC8R5",
        "u45mJU0sLakC",
        "Xexslz4lL6jl",
        "b3hDQunqhntv"
      ],
      "authorship_tag": "ABX9TyPgPPiprZ5WyRkc9SsYLxZ2",
      "include_colab_link": true
    },
    "kernelspec": {
      "name": "python3",
      "display_name": "Python 3"
    },
    "language_info": {
      "name": "python"
    }
  },
  "cells": [
    {
      "cell_type": "markdown",
      "metadata": {
        "id": "view-in-github",
        "colab_type": "text"
      },
      "source": [
        "<a href=\"https://colab.research.google.com/github/MariamZayed/Bioinformatics_Labs/blob/main/Lab4_Bioinformatics.ipynb\" target=\"_parent\"><img src=\"https://colab.research.google.com/assets/colab-badge.svg\" alt=\"Open In Colab\"/></a>"
      ]
    },
    {
      "cell_type": "markdown",
      "source": [
        "##**Importing Section**"
      ],
      "metadata": {
        "id": "wbLWTKd5VXzV"
      }
    },
    {
      "cell_type": "code",
      "execution_count": 84,
      "metadata": {
        "colab": {
          "base_uri": "https://localhost:8080/"
        },
        "id": "VQf5I8j-sQct",
        "outputId": "9546d52a-7b5d-41f3-fe29-df7f3157612e"
      },
      "outputs": [
        {
          "output_type": "stream",
          "name": "stdout",
          "text": [
            "Requirement already satisfied: biopython in /usr/local/lib/python3.7/dist-packages (1.79)\n",
            "Requirement already satisfied: numpy in /usr/local/lib/python3.7/dist-packages (from biopython) (1.19.5)\n"
          ]
        }
      ],
      "source": [
        "pip install biopython"
      ]
    },
    {
      "cell_type": "code",
      "source": [
        "import Bio \n",
        "from Bio.Seq import Seq\n",
        "from Bio import SeqIO #this lib to read and itra files\n",
        "from Bio import Entrez #Provides code to access NCBI over the WWW\n",
        "from Bio import motifs #for creating motifes objects"
      ],
      "metadata": {
        "id": "PF-ZaM7KxP0u"
      },
      "execution_count": 85,
      "outputs": []
    },
    {
      "cell_type": "markdown",
      "source": [
        "##**Start initializing**\n"
      ],
      "metadata": {
        "id": "W_nNz8cSyWVJ"
      }
    },
    {
      "cell_type": "code",
      "source": [
        "seq = Seq(\"AGTACACTGGT\")\n",
        "onther_seq = \"aaaggtttaacca\""
      ],
      "metadata": {
        "id": "7c0vYb5zybEV"
      },
      "execution_count": 86,
      "outputs": []
    },
    {
      "cell_type": "markdown",
      "source": [
        "##**Converting to RNA and back to DNA**<br>\n",
        "notice the U nucleotide in RNA seq <br>\n",
        "the protein converts every 3 nucleotides to codon, every codon is converted to single amino acid \n"
      ],
      "metadata": {
        "id": "YTDBq-xoAkYr"
      }
    },
    {
      "cell_type": "code",
      "source": [
        "rna_seq = seq.transcribe()\n",
        "dna_seq = rna_seq.back_transcribe()\n",
        "protein_seq = rna_seq.translate()\n",
        "\n",
        "print(\"Transcribted RNA Seq: \",rna_seq)\n",
        "print(\"Back to Dna: \",dna_seq)\n",
        "print(\"Translated RNA to protein\",protein_seq)"
      ],
      "metadata": {
        "colab": {
          "base_uri": "https://localhost:8080/"
        },
        "id": "UhfSegauAQAv",
        "outputId": "4401ac44-1572-4ae2-f238-849ed9370ba8"
      },
      "execution_count": 87,
      "outputs": [
        {
          "output_type": "stream",
          "name": "stdout",
          "text": [
            "Transcribted RNA Seq:  AGUACACUGGU\n",
            "Back to Dna:  AGTACACTGGT\n",
            "Translated RNA to protein STL\n"
          ]
        },
        {
          "output_type": "stream",
          "name": "stderr",
          "text": [
            "/usr/local/lib/python3.7/dist-packages/Bio/Seq.py:2983: BiopythonWarning: Partial codon, len(sequence) not a multiple of three. Explicitly trim the sequence or add trailing N before translation. This may become an error in future.\n",
            "  BiopythonWarning,\n"
          ]
        }
      ]
    },
    {
      "cell_type": "markdown",
      "source": [
        "- notice the protein is converted to STL"
      ],
      "metadata": {
        "id": "7_XBrj5NCsT2"
      }
    },
    {
      "cell_type": "markdown",
      "source": [
        "# **Reading and oprating on sequence file**<br>\n"
      ],
      "metadata": {
        "id": "6uqhYkPiC8R5"
      }
    },
    {
      "cell_type": "markdown",
      "source": [
        "##Reading and oprating on dawnloaded sequence file\n",
        "using SeqIO.parse to read dawnloaded sequence files"
      ],
      "metadata": {
        "id": "u45mJU0sLakC"
      }
    },
    {
      "cell_type": "code",
      "source": [
        "filename = 'sequence.fasta'\n",
        "extension = 'fasta'\n",
        "report = repr(record)\n",
        "#print the seq id, the seq, seq name, seq description. seq report\n",
        "for record in SeqIO.parse(filename, extension):\n",
        "  print(record.id)\n",
        "  print(record.seq)\n",
        "  print(record.name)\n",
        "  print(record.description)\n",
        "  print(report)"
      ],
      "metadata": {
        "colab": {
          "base_uri": "https://localhost:8080/"
        },
        "id": "uTnK2iwoAaVu",
        "outputId": "1a45f59d-60fe-4a89-a246-04c8c2e324e9"
      },
      "execution_count": 88,
      "outputs": [
        {
          "output_type": "stream",
          "name": "stdout",
          "text": [
            "KY560197.1\n",
            "CGAGAAGTTGGAACCCTACACCGGAAATATCAGAGAGTCCACCCAGCAGAAGCTGGGCAGCTTGCAGCAGATCTTCTTGGAGAGTGCCGGGAGTCTCCAAGAGCACTTCAACAGTAAGGCAGAGGAGTTCAAGAAGCA\n",
            "KY560197.1\n",
            "KY560197.1 Acipenser ruthenus ApoE (apoE) mRNA, partial cds\n",
            "SeqRecord(seq=Seq('CGAGAAGTTGGAACCCTACACCGGAAATATCAGAGAGTCCACCCAGCAGAAGCT...GCA'), id='KY560197.1', name='KY560197.1', description='KY560197.1 Acipenser ruthenus ApoE (apoE) mRNA, partial cds', dbxrefs=[])\n"
          ]
        }
      ]
    },
    {
      "cell_type": "markdown",
      "source": [
        "- SeqIO.parse(filename, extension)\n",
        "- This function reads file and returns a SeqRecord iterator.\n",
        "- This lets you bring the id, seq, name, description.\n",
        "- Sequence report prints the whole forementioned paramters.\n",
        "- First paramter is either called filename or handler.\n",
        "\n"
      ],
      "metadata": {
        "id": "Cy8udEqqE6ao"
      }
    },
    {
      "cell_type": "markdown",
      "source": [
        "##Reading and oprating online sequence file<br>\n",
        "- this Bio.Entrez package provides code to access NCBI over the internet\n",
        "- This module provides a number of functions like efetch (short for Entrez Fetch) which will return the data as a handle object.\n",
        "- We have mentioned before that is called file, or handler."
      ],
      "metadata": {
        "id": "Xexslz4lL6jl"
      }
    },
    {
      "cell_type": "markdown",
      "source": [
        "- use SeqIO.read() to read online files\n"
      ],
      "metadata": {
        "id": "wRzQoalcU6et"
      }
    },
    {
      "cell_type": "code",
      "source": [
        "#any email example to not generate an error\n",
        "Entrez.email = 'example@gmail.com'\n",
        "\n",
        "#this will create an file or record with the whole online records\n",
        "handle = Entrez.efetch(db=\"nucleotide\", id=\"AY851612\", rettype=\"fasta\")\n",
        "\n",
        "#now read this file\n",
        "seq_record = SeqIO.read(handle,\"fasta\")\n",
        "\n",
        "seq_report = repr(seq_record)\n",
        "print(seq_record.id)\n",
        "print(seq_record.seq)\n",
        "print(seq_record.name)\n",
        "print(seq_record.description)\n",
        "print(seq_report)"
      ],
      "metadata": {
        "id": "3COiS2hLGBi-",
        "colab": {
          "base_uri": "https://localhost:8080/"
        },
        "outputId": "6802969a-c910-4a31-db82-a0230bcba74c"
      },
      "execution_count": 89,
      "outputs": [
        {
          "output_type": "stream",
          "name": "stdout",
          "text": [
            "AY851612.1\n",
            "CATTAAAGAAGGGGGATGCGGATAAATGGAAAGGCGAAAGAAAGAAAAAAATGAATCTAAATGATATACGATTCCACTATGTAAGGTCTTTGAATCATATCATAAAAGACAATGTAATAAAGCATGAATACAGATTCACACATAATTATCTGATATGAATCTATTCATAGAAAAAAGAAAAAAGTAAGAGCCTCCGGCCAATAAAGACTAAGAGGGTTGGCTCAAGAACAAAGTTCATTAAGAGCTCCATTGTAGAATTCAGACCTAATCATTAATCAAGAAGCGATGGGAACGATGTAATCCATGAATACAGAAGATTCAATTGAAAAAGATCCTAATGATCATTGGGAAGGATGGCGGAACGAACCAGAGACCAATTCATCTATTCTGAAAAGTGATAAACTAATCCTATAAAACTAAAATAGATATTGAAAGAGTAAATATTCGCCCGCGAAAATTCCTTTTTTATTAAATTGCTCATATTTTATTTTAGCAATGCAATCTAATAAAATATATCTATACAAAAAAATATAGACAAACTATATATATATAATATATTTCAAATTTCCTTATATACCCAAATATAAAAATATCTAATAAATTAGATGAATATCAAAGAATCTATTGATTTAGTGTATTATTAAATGTATATCTTAATTCAATATTATTATTCTATTCATTTTTATTCATTTTCAAATTTATAATATATTAATCTATATATTAATTTATAATTCTATTCTAATTCGAATTCAATTTTTAAATATTCATATTCAATTAAAATTGAAATTTTTTCATTCGCGAGGAGCCGGATGAGAAGAAACTCTCATGTCCGGTTCTGTAGTAGAGATGGAATTAAGAAAAAACCATCAACTATAACCCCAAGAGAACCAGA\n",
            "AY851612.1\n",
            "AY851612.1 Opuntia subulata rpl16 gene, intron; chloroplast\n",
            "SeqRecord(seq=Seq('CATTAAAGAAGGGGGATGCGGATAAATGGAAAGGCGAAAGAAAGAAAAAAATGA...AGA'), id='AY851612.1', name='AY851612.1', description='AY851612.1 Opuntia subulata rpl16 gene, intron; chloroplast', dbxrefs=[])\n"
          ]
        }
      ]
    },
    {
      "cell_type": "markdown",
      "source": [
        "Entrez.efetch(db=\"nucleotide\", id=\"AY851612\", rettype=\"fasta\") <br>\n",
        "- we now fetching and dawnloading sequence online..\n",
        "- then we're selecting the db type, the id of the record, rettype is the file extension. \n",
        "- after this we going to read the file with SeqIO.read()"
      ],
      "metadata": {
        "id": "_Bzt95jSNtnW"
      }
    },
    {
      "cell_type": "markdown",
      "source": [
        "#**Motifs objects**\n",
        "- We are preparing to print motifs, so all motifs should be same length."
      ],
      "metadata": {
        "id": "6vasQMG6eNQg"
      }
    },
    {
      "cell_type": "markdown",
      "source": [
        "###Creating Motif object and print length\n"
      ],
      "metadata": {
        "id": "CXn5dF9mnAI9"
      }
    },
    {
      "cell_type": "code",
      "source": [
        "instances = [Seq(\"TACAA\"),\n",
        "             Seq(\"TACGC\"),\n",
        "             Seq(\"TACAC\"),\n",
        "             Seq(\"TACCC\"),\n",
        "             Seq(\"AACCC\"),\n",
        "             Seq(\"AATGC\"),\n",
        "             Seq(\"AATGC\")]\n",
        "#lets see the uptput when printing the sequenceses list\n",
        "print(instances)"
      ],
      "metadata": {
        "colab": {
          "base_uri": "https://localhost:8080/"
        },
        "id": "SmGi80l8RrZS",
        "outputId": "bdfa06ad-3d8c-40ef-856a-60ee2c3e2e75"
      },
      "execution_count": 90,
      "outputs": [
        {
          "output_type": "stream",
          "name": "stdout",
          "text": [
            "[Seq('TACAA'), Seq('TACGC'), Seq('TACAC'), Seq('TACCC'), Seq('AACCC'), Seq('AATGC'), Seq('AATGC')]\n"
          ]
        }
      ]
    },
    {
      "cell_type": "markdown",
      "source": [
        ">It printed as an list with the Seq object, but we want to print it as sequences:\"(<br>"
      ],
      "metadata": {
        "id": "zwQV1gAAfRPP"
      }
    },
    {
      "cell_type": "markdown",
      "source": [
        "So here is the soultion, using motifs objecrs we imported before.."
      ],
      "metadata": {
        "id": "npHnaeQehSFH"
      }
    },
    {
      "cell_type": "code",
      "source": [
        "motifs_seq = motifs.create(instances)\n",
        "#and here we go! solved!\n",
        "print(motifs_seq)"
      ],
      "metadata": {
        "colab": {
          "base_uri": "https://localhost:8080/"
        },
        "id": "9pE_JXtvfPbs",
        "outputId": "d2c0dd9a-d2a8-4773-a99d-d7d83e2a4ec3"
      },
      "execution_count": 91,
      "outputs": [
        {
          "output_type": "stream",
          "name": "stdout",
          "text": [
            "TACAA\n",
            "TACGC\n",
            "TACAC\n",
            "TACCC\n",
            "AACCC\n",
            "AATGC\n",
            "AATGC\n",
            "\n"
          ]
        }
      ]
    },
    {
      "cell_type": "markdown",
      "source": [
        "Remember, all motifs shouls have same length\n",
        "\n",
        "\n"
      ],
      "metadata": {
        "id": "Iq3Ej0_Uhctu"
      }
    },
    {
      "cell_type": "code",
      "source": [
        "print(len(motifs_seq))"
      ],
      "metadata": {
        "colab": {
          "base_uri": "https://localhost:8080/"
        },
        "id": "IHeL76SWgiKE",
        "outputId": "0d02ee23-676a-4f6b-f192-32882408eed8"
      },
      "execution_count": 92,
      "outputs": [
        {
          "output_type": "stream",
          "name": "stdout",
          "text": [
            "5\n"
          ]
        }
      ]
    },
    {
      "cell_type": "markdown",
      "source": [
        "###Using counts attribute of motifs\n",
        "The Motif object has an attribute counts. it counts each nucleotide at each position. Printing this counts matrix shows it in an easily readable format:"
      ],
      "metadata": {
        "id": "b3hDQunqhntv"
      }
    },
    {
      "cell_type": "code",
      "source": [
        "motifs_counts = motifs_seq.counts\n",
        "print(motifs_counts)"
      ],
      "metadata": {
        "colab": {
          "base_uri": "https://localhost:8080/"
        },
        "id": "JiFwppdohbl2",
        "outputId": "e6145fb7-a5e6-4cff-bddd-3a2b438d277e"
      },
      "execution_count": 93,
      "outputs": [
        {
          "output_type": "stream",
          "name": "stdout",
          "text": [
            "        0      1      2      3      4\n",
            "A:   3.00   7.00   0.00   2.00   1.00\n",
            "C:   0.00   0.00   5.00   2.00   6.00\n",
            "G:   0.00   0.00   0.00   3.00   0.00\n",
            "T:   4.00   0.00   2.00   0.00   0.00\n",
            "\n"
          ]
        }
      ]
    },
    {
      "cell_type": "markdown",
      "source": [
        "- So we have 4 nucleotides letters represented in rows.\n",
        "- The column names are indexes of the motifes. since the lenght of the whole motifs are 5, the index starts from 0 to 4."
      ],
      "metadata": {
        "id": "cGz9LsQxi2Z1"
      }
    },
    {
      "cell_type": "markdown",
      "source": [
        "####using counts output as a python dictionary"
      ],
      "metadata": {
        "id": "Z8vKasxJjeRM"
      }
    },
    {
      "cell_type": "code",
      "source": [
        "print(motifs_counts['A'])\n",
        "print(motifs_counts['A',:])\n",
        "print(motifs_counts[0,:])"
      ],
      "metadata": {
        "colab": {
          "base_uri": "https://localhost:8080/"
        },
        "id": "c7HceczVibxw",
        "outputId": "4ff85361-a466-43ce-a4d3-ca3e0f54365e"
      },
      "execution_count": 94,
      "outputs": [
        {
          "output_type": "stream",
          "name": "stdout",
          "text": [
            "[3, 7, 0, 2, 1]\n",
            "(3, 7, 0, 2, 1)\n",
            "(3, 7, 0, 2, 1)\n"
          ]
        }
      ]
    },
    {
      "cell_type": "markdown",
      "source": [
        "- print row A in all columns from 0 to 4\n",
        "- -  this means that the A showed in the first column 3 times, second column 7 times, third coulmn 0 times, and so on. \n",
        "- Instead of the nucleotide itself, you can also use the index of the nucleotide in the alphabet of the motif:"
      ],
      "metadata": {
        "id": "l2HXAEe0kI8P"
      }
    },
    {
      "cell_type": "code",
      "source": [
        "motifs_counts['A',0]"
      ],
      "metadata": {
        "colab": {
          "base_uri": "https://localhost:8080/"
        },
        "id": "8Il7rryfj4ab",
        "outputId": "c3c83f72-3b5e-4a00-be90-549ab3316dc6"
      },
      "execution_count": 95,
      "outputs": [
        {
          "output_type": "execute_result",
          "data": {
            "text/plain": [
              "3"
            ]
          },
          "metadata": {},
          "execution_count": 95
        }
      ]
    },
    {
      "cell_type": "markdown",
      "source": [
        "- this means how many row A showed in column 0  "
      ],
      "metadata": {
        "id": "Td-NdfjWkjoX"
      }
    },
    {
      "cell_type": "markdown",
      "source": [
        "### Using consensus and anticonsensus attributes of motifs\n"
      ],
      "metadata": {
        "id": "BgZU7i7Wmhkq"
      }
    },
    {
      "cell_type": "markdown",
      "source": [
        "consensus means to see which letter is more repeated in each column"
      ],
      "metadata": {
        "id": "uqo6QDn7n87m"
      }
    },
    {
      "cell_type": "code",
      "source": [
        "print(motifs_counts.consensus)"
      ],
      "metadata": {
        "colab": {
          "base_uri": "https://localhost:8080/"
        },
        "id": "lH92_qIEmg_T",
        "outputId": "57f5029c-8966-43d8-8f5b-168fabde8a2d"
      },
      "execution_count": 96,
      "outputs": [
        {
          "output_type": "stream",
          "name": "stdout",
          "text": [
            "TACGC\n"
          ]
        }
      ]
    },
    {
      "cell_type": "markdown",
      "source": [
        "- this means T letter is the most repeated letter in first column, A in second column, C in third column and so on\n"
      ],
      "metadata": {
        "id": "Eh3hRxCaosrI"
      }
    },
    {
      "cell_type": "markdown",
      "source": [
        "anticonsensus means to see which letter is least repeated in each column"
      ],
      "metadata": {
        "id": "K2hn6w5-pSz0"
      }
    },
    {
      "cell_type": "code",
      "source": [
        "print(motifs_counts.anticonsensus)"
      ],
      "metadata": {
        "colab": {
          "base_uri": "https://localhost:8080/"
        },
        "id": "guBtU-0gorX9",
        "outputId": "472467b5-9ad7-4c15-8359-08e1b30d974d"
      },
      "execution_count": 97,
      "outputs": [
        {
          "output_type": "stream",
          "name": "stdout",
          "text": [
            "CCATG\n"
          ]
        }
      ]
    },
    {
      "cell_type": "markdown",
      "source": [
        "- this means C letter is the least repeated letter in first column, C in second column, A in third column and so on\n"
      ],
      "metadata": {
        "id": "yynen92nphjp"
      }
    },
    {
      "cell_type": "markdown",
      "source": [
        "###Motif logo \n",
        "can works only through online"
      ],
      "metadata": {
        "id": "5SEIOBm4p40B"
      }
    },
    {
      "cell_type": "code",
      "source": [
        "motifs_seq.weblogo(\"mymotif.png\")"
      ],
      "metadata": {
        "id": "gzy8XRn5qByI"
      },
      "execution_count": 98,
      "outputs": []
    },
    {
      "cell_type": "markdown",
      "source": [
        "- weblogo('imagename')\n",
        "- it creats an graphical logo for the most and least repeated motifs letters\n",
        "- it onyl works through internet connection"
      ],
      "metadata": {
        "id": "rO8uTpeUqOQc"
      }
    }
  ]
}