{
  "nbformat": 4,
  "nbformat_minor": 0,
  "metadata": {
    "colab": {
      "name": "Lab9_Bioinformatics.ipynb",
      "provenance": [],
      "collapsed_sections": [
        "qBtSlAHSg_jW",
        "wbLWTKd5VXzV",
        "ENKhDTDXip_e",
        "gnul15FApBuo",
        "M_6N9Lbj13uy"
      ],
      "authorship_tag": "ABX9TyMEqZS1sX4o34esc3Fycapt",
      "include_colab_link": true
    },
    "kernelspec": {
      "name": "python3",
      "display_name": "Python 3"
    },
    "language_info": {
      "name": "python"
    }
  },
  "cells": [
    {
      "cell_type": "markdown",
      "metadata": {
        "id": "view-in-github",
        "colab_type": "text"
      },
      "source": [
        "<a href=\"https://colab.research.google.com/github/MariamZayed/Bioinformatics_Labs/blob/main/Lab9_Bioinformatics.ipynb\" target=\"_parent\"><img src=\"https://colab.research.google.com/assets/colab-badge.svg\" alt=\"Open In Colab\"/></a>"
      ]
    },
    {
      "cell_type": "markdown",
      "source": [
        "##**In This Lab**"
      ],
      "metadata": {
        "id": "qBtSlAHSg_jW"
      }
    },
    {
      "cell_type": "markdown",
      "source": [
        "Like the previous lab you will dawnload and imported two libs\n",
        "\n",
        "\n",
        "you can find them here\n",
        "\n",
        "- InitializeMatrix:\n",
        "\n",
        "https://medmansedu-my.sharepoint.com/personal/eman_elsaeed_mans_edu_eg/_layouts/15/onedrive.aspx?id=%2Fpersonal%2Feman_elsaeed_mans_edu_eg%2FDocuments%2FInitializeMatrix%2Epy&parent=%2Fpersonal%2Feman_elsaeed_mans_edu_eg%2FDocuments\n",
        "\n",
        "- PrintMatrix\n",
        "\n",
        "https://medmansedu-my.sharepoint.com/personal/eman_elsaeed_mans_edu_eg/_layouts/15/onedrive.aspx?id=%2Fpersonal%2Feman_elsaeed_mans_edu_eg%2FDocuments%2FPrintMatrix%2Epy&parent=%2Fpersonal%2Feman_elsaeed_mans_edu_eg%2FDocuments\n",
        "\n",
        "- MaxValue\n",
        "\n",
        "https://medmansedu-my.sharepoint.com/personal/eman_elsaeed_mans_edu_eg/_layouts/15/onedrive.aspx?id=%2Fpersonal%2Feman_elsaeed_mans_edu_eg%2FDocuments%2FMaxValue%2Epy&parent=%2Fpersonal%2Feman_elsaeed_mans_edu_eg%2FDocuments\n",
        "\n",
        "- TraceBackFunction\n",
        "\n",
        "https://medmansedu-my.sharepoint.com/personal/eman_elsaeed_mans_edu_eg/_layouts/15/onedrive.aspx?id=%2Fpersonal%2Feman_elsaeed_mans_edu_eg%2FDocuments%2FTraceBackFunction%2Epy&parent=%2Fpersonal%2Feman_elsaeed_mans_edu_eg%2FDocuments"
      ],
      "metadata": {
        "id": "XUEUoQOhhb8V"
      }
    },
    {
      "cell_type": "markdown",
      "source": [
        "##**Importing Section**"
      ],
      "metadata": {
        "id": "wbLWTKd5VXzV"
      }
    },
    {
      "cell_type": "code",
      "execution_count": null,
      "metadata": {
        "id": "VQf5I8j-sQct"
      },
      "outputs": [],
      "source": [
        "pip install biopython"
      ]
    },
    {
      "cell_type": "code",
      "source": [
        "import Bio \n",
        "from Bio.Seq import Seq\n",
        "from Bio import SeqIO #this lib to read and itra files\n",
        "from Bio import motifs #for creating motifes objects\n",
        "\n",
        "from InitializeMatrix import initialize_matrix #dawnload this library from the link above and then imported it like now\n",
        "from MaxValue import get_max_val_ind #dawnload this library from the link above and then imported it like now\n",
        "from PrintMatrix import print_matrix #dawnload this library from the link above and then imported it like now\n",
        "from PrintMatrix import print_matrix_p \n",
        "from TraceBackFunction import traceback #dawnload this library from the link above and then imported it like now"
      ],
      "metadata": {
        "id": "PF-ZaM7KxP0u"
      },
      "execution_count": 19,
      "outputs": []
    },
    {
      "cell_type": "markdown",
      "source": [
        "##**HMM**"
      ],
      "metadata": {
        "id": "XS32kZ2ZgSv8"
      }
    },
    {
      "cell_type": "markdown",
      "source": [
        "###Initializing paramter for the upcoming algorithms"
      ],
      "metadata": {
        "id": "ENKhDTDXip_e"
      }
    },
    {
      "cell_type": "code",
      "execution_count": 4,
      "metadata": {
        "colab": {
          "base_uri": "https://localhost:8080/"
        },
        "id": "9CVB2b5AQKHK",
        "outputId": "fcbccfe9-b9ba-4ec8-c52e-21c766047e64"
      },
      "outputs": [
        {
          "output_type": "stream",
          "name": "stdout",
          "text": [
            "['b', 'y', 'n', 'e']\n"
          ]
        }
      ],
      "source": [
        "states = ['b','y','n','e']\n",
        "print(states)"
      ]
    },
    {
      "cell_type": "markdown",
      "source": [
        "__________"
      ],
      "metadata": {
        "id": "giQKg-amp9VK"
      }
    },
    {
      "cell_type": "markdown",
      "source": [
        "defining transistion values"
      ],
      "metadata": {
        "id": "U6nXE3nkgbCm"
      }
    },
    {
      "cell_type": "code",
      "source": [
        "transitions = {('b','y') : 0.2,\n",
        "               ('b','n') : 0.8,\n",
        "               ('y','y') : 0.7,\n",
        "               ('y','n') : 0.2,\n",
        "               ('y','e') : 0.1,\n",
        "               ('n','n') : 0.8,\n",
        "               ('n','y') : 0.1,\n",
        "               ('n','e') : 0.1 \n",
        "               }\n",
        "print(transitions)"
      ],
      "metadata": {
        "colab": {
          "base_uri": "https://localhost:8080/"
        },
        "id": "wNO_fD1FgdCf",
        "outputId": "63cd5506-065f-4af0-e62d-ab1f35ecea53"
      },
      "execution_count": 5,
      "outputs": [
        {
          "output_type": "stream",
          "name": "stdout",
          "text": [
            "{('b', 'y'): 0.2, ('b', 'n'): 0.8, ('y', 'y'): 0.7, ('y', 'n'): 0.2, ('y', 'e'): 0.1, ('n', 'n'): 0.8, ('n', 'y'): 0.1, ('n', 'e'): 0.1}\n"
          ]
        }
      ]
    },
    {
      "cell_type": "markdown",
      "source": [
        "------------"
      ],
      "metadata": {
        "id": "n8y5j2zdmYgs"
      }
    },
    {
      "cell_type": "markdown",
      "source": [
        "defining emission values"
      ],
      "metadata": {
        "id": "fna1uWf0hoIL"
      }
    },
    {
      "cell_type": "code",
      "source": [
        "emissions = {'y' : {'A':0.1, 'C':0.4, 'G':0.4, 'T':0.1},\n",
        "             'n' : {'A':0.25, 'C':0.25, 'G':0.25, 'T':0.25} \n",
        "             }\n",
        "print(emissions)"
      ],
      "metadata": {
        "colab": {
          "base_uri": "https://localhost:8080/"
        },
        "id": "kAZiel-egitL",
        "outputId": "b2c981db-4248-448e-e8c1-4f01639f93ee"
      },
      "execution_count": 6,
      "outputs": [
        {
          "output_type": "stream",
          "name": "stdout",
          "text": [
            "{'y': {'A': 0.1, 'C': 0.4, 'G': 0.4, 'T': 0.1}, 'n': {'A': 0.25, 'C': 0.25, 'G': 0.25, 'T': 0.25}}\n"
          ]
        }
      ]
    },
    {
      "cell_type": "markdown",
      "source": [
        "-----------"
      ],
      "metadata": {
        "id": "B9QL9MKFmcMK"
      }
    },
    {
      "cell_type": "markdown",
      "source": [
        "preparing the sequence"
      ],
      "metadata": {
        "id": "69eGWSmEhrUd"
      }
    },
    {
      "cell_type": "code",
      "source": [
        "sequence = 'ATGCG'\n",
        "print(sequence)"
      ],
      "metadata": {
        "colab": {
          "base_uri": "https://localhost:8080/"
        },
        "id": "V1a-kzozgxRC",
        "outputId": "019cfc5c-b129-4177-a075-5a887b3bfe0f"
      },
      "execution_count": 7,
      "outputs": [
        {
          "output_type": "stream",
          "name": "stdout",
          "text": [
            "ATGCG\n"
          ]
        }
      ]
    },
    {
      "cell_type": "markdown",
      "source": [
        "###Intializing the Viterbi Matrix"
      ],
      "metadata": {
        "id": "3phm2VPIoShH"
      }
    },
    {
      "cell_type": "code",
      "source": [
        "F = initialize_matrix(len(states),len(sequence)+2)\n",
        "F[0][0] = 1\n",
        "print_matrix(F,states,sequence)"
      ],
      "metadata": {
        "colab": {
          "base_uri": "https://localhost:8080/"
        },
        "id": "dtItfUPxwf1r",
        "outputId": "a2fab5ff-1f71-4065-9354-8957e139f21e"
      },
      "execution_count": 12,
      "outputs": [
        {
          "output_type": "stream",
          "name": "stdout",
          "text": [
            "          0         A         T         G         C         G         0         \n",
            "b         1.00e+00  0.00e+00  0.00e+00  0.00e+00  0.00e+00  0.00e+00  0.00e+00  \n",
            "y         0.00e+00  0.00e+00  0.00e+00  0.00e+00  0.00e+00  0.00e+00  0.00e+00  \n",
            "n         0.00e+00  0.00e+00  0.00e+00  0.00e+00  0.00e+00  0.00e+00  0.00e+00  \n",
            "e         0.00e+00  0.00e+00  0.00e+00  0.00e+00  0.00e+00  0.00e+00  0.00e+00  \n"
          ]
        }
      ]
    },
    {
      "cell_type": "markdown",
      "source": [
        "> - note that the first row first column cell value is now equals 1 as we wanted"
      ],
      "metadata": {
        "id": "YxNtnewuqqNL"
      }
    },
    {
      "cell_type": "markdown",
      "source": [
        "###generating the begin (b) viterbi matrix"
      ],
      "metadata": {
        "id": "BmwZlCytyQBM"
      }
    },
    {
      "cell_type": "code",
      "source": [
        "FP = initialize_matrix(len(states),len(sequence)+2,states[0])\n",
        "print_matrix_p(FP,states,sequence)"
      ],
      "metadata": {
        "colab": {
          "base_uri": "https://localhost:8080/"
        },
        "id": "RDvn_J6LxLHT",
        "outputId": "30df2c0c-a01d-48b5-8ecd-b37d1f2bebee"
      },
      "execution_count": 13,
      "outputs": [
        {
          "output_type": "stream",
          "name": "stdout",
          "text": [
            "          0         A         T         G         C         G         0         \n",
            "b         b         b         b         b         b         b         b         \n",
            "y         b         b         b         b         b         b         b         \n",
            "n         b         b         b         b         b         b         b         \n",
            "e         b         b         b         b         b         b         b         \n"
          ]
        }
      ]
    },
    {
      "cell_type": "markdown",
      "source": [
        "###work with first column A"
      ],
      "metadata": {
        "id": "KIcYTHuSog6v"
      }
    },
    {
      "cell_type": "markdown",
      "source": [
        "First column to start with has special equation than other columns"
      ],
      "metadata": {
        "id": "qMnSk2MPrOer"
      }
    },
    {
      "cell_type": "code",
      "source": [
        "for i in range(1, len(states) - 1):\n",
        "  F[i][1] = transitions[(states[0], states[i])] * emissions[states[i]][sequence[0]]\n",
        "print_matrix(F, states, sequence)"
      ],
      "metadata": {
        "colab": {
          "base_uri": "https://localhost:8080/"
        },
        "id": "9eqZTRVZx65T",
        "outputId": "cc497955-2907-4100-8ef2-b64352d8ece1"
      },
      "execution_count": 14,
      "outputs": [
        {
          "output_type": "stream",
          "name": "stdout",
          "text": [
            "          0         A         T         G         C         G         0         \n",
            "b         1.00e+00  0.00e+00  0.00e+00  0.00e+00  0.00e+00  0.00e+00  0.00e+00  \n",
            "y         0.00e+00  2.00e-02  0.00e+00  0.00e+00  0.00e+00  0.00e+00  0.00e+00  \n",
            "n         0.00e+00  2.00e-01  0.00e+00  0.00e+00  0.00e+00  0.00e+00  0.00e+00  \n",
            "e         0.00e+00  0.00e+00  0.00e+00  0.00e+00  0.00e+00  0.00e+00  0.00e+00  \n"
          ]
        }
      ]
    },
    {
      "cell_type": "markdown",
      "source": [
        "###rest of the columns"
      ],
      "metadata": {
        "id": "1oh-PTewooV-"
      }
    },
    {
      "cell_type": "markdown",
      "source": [
        "**choose for the maximum value**\n",
        "- note that we want to get the max between 2 values\n",
        "- We implement a simple function that, given a list of values, returns the maximum value and the index of the maximum value.\n",
        "- this funtion is imported before in the importing section above  get_max_val_ind"
      ],
      "metadata": {
        "id": "PEsYwIK3y0sr"
      }
    },
    {
      "cell_type": "markdown",
      "source": [
        "Now we will compute for all of the other symbols, from the second to the last, we ccalculate the values as the maximum of probabilities"
      ],
      "metadata": {
        "id": "xaUx3uChjS9Q"
      }
    },
    {
      "cell_type": "code",
      "source": [
        "for j in range(2,len(sequence)+1):# loops on the symbols\n",
        "  for i in range(1,len(states)-1):# loops on the states\n",
        "    values = []\n",
        "    for k in range(1,len(states)-1):# loops on all of the possible previous states\n",
        "      values.append(F[k][j-1]*transitions[(states[k],states[i])]*emissions[states[i]][sequence[j-1]])# appends the value to a list\n",
        "      max_val, max_ind = get_max_val_ind(values)# finds the maximum and the index of the maximum in the list\n",
        "      F[i][j] = max_val # sets the probability to the maximum probability\n",
        "      FP[i][j] = states[max_ind+1] # sets the corresponding pointer to the appropriate previous state\n",
        "print_matrix(F,states,sequence)\n",
        "print_matrix_p(FP,states,sequence)"
      ],
      "metadata": {
        "colab": {
          "base_uri": "https://localhost:8080/"
        },
        "id": "fR9EB8ZQzL4i",
        "outputId": "dd37caad-f315-4731-b44b-db683c30cf13"
      },
      "execution_count": 17,
      "outputs": [
        {
          "output_type": "stream",
          "name": "stdout",
          "text": [
            "          0         A         T         G         C         G         0         \n",
            "b         1.00e+00  0.00e+00  0.00e+00  0.00e+00  0.00e+00  0.00e+00  0.00e+00  \n",
            "y         0.00e+00  2.00e-02  2.00e-03  1.60e-03  4.48e-04  1.25e-04  0.00e+00  \n",
            "n         0.00e+00  2.00e-01  4.00e-02  8.00e-03  1.60e-03  3.20e-04  0.00e+00  \n",
            "e         0.00e+00  0.00e+00  0.00e+00  0.00e+00  0.00e+00  0.00e+00  0.00e+00  \n",
            "          0         A         T         G         C         G         0         \n",
            "b         b         b         b         b         b         b         b         \n",
            "y         b         b         n         n         y         y         b         \n",
            "n         b         b         n         n         n         n         b         \n",
            "e         b         b         b         b         b         b         b         \n"
          ]
        }
      ]
    },
    {
      "cell_type": "markdown",
      "source": [
        "###finally, the probability value "
      ],
      "metadata": {
        "id": "gnul15FApBuo"
      }
    },
    {
      "cell_type": "markdown",
      "source": [
        "Now, we need to calculate the final value. It is the maximum of probabilities of transitioning from any previous state to the end state times the probability of the previous state.\n",
        "\n",
        "\n",
        "you will find the final value in the last cell of the table\n"
      ],
      "metadata": {
        "id": "RONJ2sS0kBfp"
      }
    },
    {
      "cell_type": "code",
      "source": [
        "values = []\n",
        "for k in range(1,len(states)-1):\n",
        "  values.append(F[k][len(sequence)]*transitions[(states[k],states[-1])])\n",
        "  max_val, max_ind = get_max_val_ind(values)\n",
        "  F[-1][-1] = max_val\n",
        "  FP[-1][-1] = states[max_ind+1]\n",
        "print_matrix(F,states,sequence)\n",
        "print_matrix_p(FP,states,sequence)"
      ],
      "metadata": {
        "colab": {
          "base_uri": "https://localhost:8080/"
        },
        "id": "I3XpCe4cjy3i",
        "outputId": "f57565be-8f75-4d4b-fda5-e902c7359c96"
      },
      "execution_count": 18,
      "outputs": [
        {
          "output_type": "stream",
          "name": "stdout",
          "text": [
            "          0         A         T         G         C         G         0         \n",
            "b         1.00e+00  0.00e+00  0.00e+00  0.00e+00  0.00e+00  0.00e+00  0.00e+00  \n",
            "y         0.00e+00  2.00e-02  2.00e-03  1.60e-03  4.48e-04  1.25e-04  0.00e+00  \n",
            "n         0.00e+00  2.00e-01  4.00e-02  8.00e-03  1.60e-03  3.20e-04  0.00e+00  \n",
            "e         0.00e+00  0.00e+00  0.00e+00  0.00e+00  0.00e+00  0.00e+00  3.20e-05  \n",
            "          0         A         T         G         C         G         0         \n",
            "b         b         b         b         b         b         b         b         \n",
            "y         b         b         n         n         y         y         b         \n",
            "n         b         b         n         n         n         n         b         \n",
            "e         b         b         b         b         b         b         n         \n"
          ]
        }
      ]
    },
    {
      "cell_type": "markdown",
      "source": [
        "###traceback\n",
        "\n"
      ],
      "metadata": {
        "id": "M_6N9Lbj13uy"
      }
    },
    {
      "cell_type": "markdown",
      "source": [
        "- to trace back we'll use the lib we imported before, \n",
        "- In order to trace back the path we need to start from the end state and move through the FP matrix according to the pointers.\n",
        "- Therefore, we implement a function that takes states and the FP matrix, starts from the last element of the matrix and moves through the matrix appending, at each step, the current state to the path variable."
      ],
      "metadata": {
        "id": "KFwwHlsh1zM7"
      }
    },
    {
      "cell_type": "code",
      "source": [
        "path = traceback(states,FP)\n",
        "print('- '+' '.join(sequence)+' -')\n",
        "print(path)"
      ],
      "metadata": {
        "colab": {
          "base_uri": "https://localhost:8080/"
        },
        "id": "t41Du5vL12xX",
        "outputId": "19b5b6ca-41aa-45d2-d895-533c2d82bc15"
      },
      "execution_count": 20,
      "outputs": [
        {
          "output_type": "stream",
          "name": "stdout",
          "text": [
            "- A T G C G -\n",
            "b n n n n n e\n"
          ]
        }
      ]
    }
  ]
}