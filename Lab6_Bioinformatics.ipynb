{
  "nbformat": 4,
  "nbformat_minor": 0,
  "metadata": {
    "colab": {
      "name": "Lab6_Bioinformatics.ipynb",
      "provenance": [],
      "authorship_tag": "ABX9TyPIzRjTLlbvAyUNpUYTKF0U",
      "include_colab_link": true
    },
    "kernelspec": {
      "name": "python3",
      "display_name": "Python 3"
    },
    "language_info": {
      "name": "python"
    }
  },
  "cells": [
    {
      "cell_type": "markdown",
      "metadata": {
        "id": "view-in-github",
        "colab_type": "text"
      },
      "source": [
        "<a href=\"https://colab.research.google.com/github/MariamZayed/Bioinformatics_Labs/blob/main/Lab6_Bioinformatics.ipynb\" target=\"_parent\"><img src=\"https://colab.research.google.com/assets/colab-badge.svg\" alt=\"Open In Colab\"/></a>"
      ]
    },
    {
      "cell_type": "markdown",
      "source": [
        "## In this section.."
      ],
      "metadata": {
        "id": "kntq1dht_txS"
      }
    },
    {
      "cell_type": "markdown",
      "source": [
        "### - We dawnloaded a sequence data from another website called jaspar (https://jaspar.genereg.net) instead of NCBI\n"
      ],
      "metadata": {
        "id": "SvF14d95HbRy"
      }
    },
    {
      "cell_type": "markdown",
      "source": [
        "###- We also took a tour in MEME websie to online extract Motifs and so on\n"
      ],
      "metadata": {
        "id": "RzX_PGVRHmNP"
      }
    },
    {
      "cell_type": "markdown",
      "source": [
        "###- There is 2 imported files(libraries) you will find their links below. Dawnload them and put it in the main folder your working on, then import both of them here..\n",
        "1- Nussionv3.py file <br>\n",
        "https://medmansedu-my.sharepoint.com/personal/eman_elsaeed_mans_edu_eg/_layouts/15/onedrive.aspx?id=%2Fpersonal%2Feman_elsaeed_mans_edu_eg%2FDocuments%2FNussinov3%2Epy&parent=%2Fpersonal%2Feman_elsaeed_mans_edu_eg%2FDocuments\n",
        "\n",
        "2- Gibbs.py file <br>\n",
        "https://medmansedu-my.sharepoint.com/:u:/g/personal/eman_elsaeed_mans_edu_eg/Ed9MrDlPgPBBu1wQfJk4SQQByjc58rpsw491J3LNlfn4yQ?e=fnFgQu\n"
      ],
      "metadata": {
        "id": "lMWkx9w7Ho8t"
      }
    },
    {
      "cell_type": "markdown",
      "source": [
        "##**Importing Section**"
      ],
      "metadata": {
        "id": "wbLWTKd5VXzV"
      }
    },
    {
      "cell_type": "code",
      "execution_count": 19,
      "metadata": {
        "colab": {
          "base_uri": "https://localhost:8080/"
        },
        "id": "VQf5I8j-sQct",
        "outputId": "6e95bb76-f2da-4304-87b9-324c33b89f53"
      },
      "outputs": [
        {
          "output_type": "stream",
          "name": "stdout",
          "text": [
            "Requirement already satisfied: biopython in /usr/local/lib/python3.7/dist-packages (1.79)\n",
            "Requirement already satisfied: numpy in /usr/local/lib/python3.7/dist-packages (from biopython) (1.19.5)\n"
          ]
        }
      ],
      "source": [
        "pip install biopython"
      ]
    },
    {
      "cell_type": "code",
      "source": [
        "import Bio \n",
        "from Bio.Seq import Seq\n",
        "from Bio import SeqIO #this lib to read files\n",
        "from Bio import motifs #for creating motifes objects"
      ],
      "metadata": {
        "id": "PF-ZaM7KxP0u"
      },
      "execution_count": 20,
      "outputs": []
    },
    {
      "cell_type": "markdown",
      "source": [
        "##**READING MOTIFS**"
      ],
      "metadata": {
        "id": "C_Fu6vJXkbII"
      }
    },
    {
      "cell_type": "markdown",
      "source": [
        "- open() is a python built-in function to open a file. This function returns a file oject.\n",
        "- We have mentioned before it's either called a file, or a handle."
      ],
      "metadata": {
        "id": "OCVWgDX6ejVn"
      }
    },
    {
      "cell_type": "code",
      "source": [
        "handle = open(\"MA0004.1.sites\")\n",
        "extension = 'sites'\n",
        "motif_seqs= motifs.read(handle, extension)\n",
        "\n",
        "#print the whole motifes\n",
        "print(motif_seqs.instances,'-----')\n",
        "# print first 3 motif sequences\n",
        "print(motif_seqs.instances[:3])"
      ],
      "metadata": {
        "colab": {
          "base_uri": "https://localhost:8080/"
        },
        "id": "N7hiaJD0hQCS",
        "outputId": "a2a50b4d-14d2-47ba-a83d-f0708777295d"
      },
      "execution_count": 21,
      "outputs": [
        {
          "output_type": "stream",
          "name": "stdout",
          "text": [
            "CACGTG\n",
            "CACGTG\n",
            "CACGTG\n",
            "CACGTG\n",
            "CACGTG\n",
            "CACGTG\n",
            "CACGTG\n",
            "CACGTG\n",
            "CACGTG\n",
            "CACGTG\n",
            "CACGTG\n",
            "CACGTG\n",
            "CACGTG\n",
            "CACGTG\n",
            "CACGTG\n",
            "AACGTG\n",
            "AACGTG\n",
            "AACGTG\n",
            "AACGTG\n",
            "CGCGTG\n",
            " -----\n",
            "[Seq('CACGTG'), Seq('CACGTG'), Seq('CACGTG')]\n"
          ]
        }
      ]
    },
    {
      "cell_type": "markdown",
      "source": [
        "- motif.read(handle, extension)\n",
        ">- hande is file object holding the whole data.\n",
        "> - As usual, we have to read this file. And since we're reading this file to extract and read motifs, we will call the motif class\n",
        "> - - we can now read and extract motifs with motifs.read(handle, extension) function\n",
        "- instance is a class containing a list of sequences that made the motifs, so we're calling the class to show us motifs\n",
        "\n",
        "\n"
      ],
      "metadata": {
        "id": "lqG3h0wej5pd"
      }
    },
    {
      "cell_type": "markdown",
      "source": [
        "---------------------------"
      ],
      "metadata": {
        "id": "Ic9qxIoL_m1R"
      }
    },
    {
      "cell_type": "markdown",
      "source": [
        "As we know from lab4, motif object has an attribute called counts, which counts each nucleotide at each position"
      ],
      "metadata": {
        "id": "ETj4Nf1U-6cY"
      }
    },
    {
      "cell_type": "code",
      "source": [
        "print(motif_seqs.counts)"
      ],
      "metadata": {
        "colab": {
          "base_uri": "https://localhost:8080/"
        },
        "id": "Zlk_nxATjijO",
        "outputId": "8fbd3706-6d21-4088-da83-b20327d135fd"
      },
      "execution_count": 23,
      "outputs": [
        {
          "output_type": "stream",
          "name": "stdout",
          "text": [
            "        0      1      2      3      4      5\n",
            "A:   4.00  19.00   0.00   0.00   0.00   0.00\n",
            "C:  16.00   0.00  20.00   0.00   0.00   0.00\n",
            "G:   0.00   1.00   0.00  20.00   0.00  20.00\n",
            "T:   0.00   0.00   0.00   0.00  20.00   0.00\n",
            "\n"
          ]
        }
      ]
    },
    {
      "cell_type": "markdown",
      "source": [
        "arnt.instance[] it works even though i dont define arnt as a motif file or \n",
        "- A subclass of Bio.motifs.Motif used to represent a JASPAR profile.\n",
        "\n",
        "Additional metadata information are stored if available. The metadata\n",
        "availability depends on the source of the JASPAR motif (a 'pfm' format\n",
        "file, a 'jaspar' format file or a JASPAR database).\n",
        "\n",
        "\n"
      ],
      "metadata": {
        "id": "oLUjxas89I-Z"
      }
    },
    {
      "cell_type": "markdown",
      "source": [
        "##Converting File Extension"
      ],
      "metadata": {
        "id": "murQYRMnBb6h"
      }
    },
    {
      "cell_type": "code",
      "source": [
        "old_file = 'sequence.gb'\n",
        "old_extension = 'gb'\n",
        "new_file = 'newfile.fasta'\n",
        "new_extension = 'fasta'\n",
        "converted_file = SeqIO.convert(old_file, old_extension, new_file, new_extension)\n",
        "print(converted_file)"
      ],
      "metadata": {
        "colab": {
          "base_uri": "https://localhost:8080/"
        },
        "id": "XyTH75gJBhCP",
        "outputId": "57ebdfca-44d0-4909-9c70-48330af0e085"
      },
      "execution_count": 24,
      "outputs": [
        {
          "output_type": "stream",
          "name": "stdout",
          "text": [
            "1\n"
          ]
        }
      ]
    },
    {
      "cell_type": "markdown",
      "source": [
        "> 1 means True, the file is converted\n",
        "- Watch out though, if the new_file already exists, it will overwrite it!"
      ],
      "metadata": {
        "id": "Ru7LhCaSEhyN"
      }
    },
    {
      "cell_type": "markdown",
      "source": [
        "##GIBBS Sampling For Motifs Detection\n",
        "Running Gibbs Sampling on a small set of DNA sequences"
      ],
      "metadata": {
        "id": "whaCXQT6EnTd"
      }
    },
    {
      "cell_type": "code",
      "source": [
        "import Gibbs #dawnload this library from the link above and then imported it like now"
      ],
      "metadata": {
        "id": "C6APqss_DT5n"
      },
      "execution_count": 25,
      "outputs": []
    },
    {
      "cell_type": "markdown",
      "source": [
        "- Enter the sequence alphabet :\n",
        "> here we're going to tell him what alphebets we're going to work with. \n",
        "> - if it's DNA, type DNA letters A,G,t,C and don't worry of the order of the letters' input \n",
        "> - if RNA then A,G,U,C\n",
        "- Enter the Numer of Motifs: \n",
        "> it means how many motifs you want to extract.\n",
        "- Enter the sequence : \n",
        "> type any motif sequnce you would like to search for the motifs.\n",
        "- Note that: the sequence is created randomly each time you run the this code snipt. It means that this Gibbs library generates random sequence, and then we come to search for motifs in these randomly sequence.\n",
        "> - the number of generated sequences is the number of the number of motifs."
      ],
      "metadata": {
        "id": "l9egJfEVLaKL"
      }
    },
    {
      "cell_type": "code",
      "source": [
        "Gibbs.strings"
      ],
      "metadata": {
        "colab": {
          "base_uri": "https://localhost:8080/"
        },
        "id": "gx7V98smNBoy",
        "outputId": "c24c5e99-686b-4663-9db4-e48b0225b3b4"
      },
      "execution_count": 26,
      "outputs": [
        {
          "output_type": "execute_result",
          "data": {
            "text/plain": [
              "['TTCAGCGGTTATTGACGCACAGCTCGAGTGAGTACTGGCAGCACAAGAAAAATGTTCTGTAGCGCGCTATTGTGAGTGTAGAAGCTACCGACTATGTTTAGTCTAGTTGGCTTTAGGCAAAGTATGCA',\n",
              " 'CTCGAGAGAGGGAATACGGCTCAACCAGTCGCCCGGCCAGAAGGTTCAAGTCGGCATACCAGGCAACTCGTCGTGGATACTTAGGCAAACATTAGGAAGTCCTCGCCTCTAGAGGGCGGGCCCTAGCT']"
            ]
          },
          "metadata": {},
          "execution_count": 26
        }
      ]
    },
    {
      "cell_type": "markdown",
      "source": [
        "> the Gibbs library has an attribute called .strings<br>it shows us the generated sequences"
      ],
      "metadata": {
        "id": "JVdGYJ9RRor0"
      }
    },
    {
      "cell_type": "code",
      "source": [
        "print(Gibbs.motif_starts)"
      ],
      "metadata": {
        "colab": {
          "base_uri": "https://localhost:8080/"
        },
        "id": "8GsgMTmPNBrP",
        "outputId": "d5960045-de5f-47f3-c891-6b120d52cd41"
      },
      "execution_count": 27,
      "outputs": [
        {
          "output_type": "stream",
          "name": "stdout",
          "text": [
            "[26 93]\n"
          ]
        }
      ]
    },
    {
      "cell_type": "markdown",
      "source": [
        "> the Gibbs library has an attribute called motif_starts, it tell us the motifs index starts"
      ],
      "metadata": {
        "id": "wOLEzT3HRFQA"
      }
    },
    {
      "cell_type": "markdown",
      "source": [
        "##NUSSINOV ALGORITHM\n",
        "predict the folding of an RNA molecule that makes use of dynamic programming principles\n",
        "- RNA origami occurs when an RNA molecule \"folds\" and binds to itself. This folding often determines the function of the RNA molecule. RNA folds at different levels, this algorithm predicts the secondary structure of the RNA."
      ],
      "metadata": {
        "id": "NaekkIO3LE8M"
      }
    },
    {
      "cell_type": "code",
      "source": [
        "import Nussinov3  #dawnload this file from the link above and then imported it like now"
      ],
      "metadata": {
        "id": "d2urGhz5LF77"
      },
      "execution_count": 28,
      "outputs": []
    },
    {
      "cell_type": "code",
      "source": [
        "nussinov_seq = input(\"Enter the RNA sequence : \")\n",
        "#len is a pramter to get_matrix() function\n",
        "#get_matrix() function is an attribute for the Nussinov3 class \n",
        "#this will create a zero matrix, its sizes is the len\n",
        "initialized_matrix = Nussinov3.get_matrix(len(nussinov_seq))\n",
        "#this will compute the Nussinov matrix\n",
        "Nussinov3.compute_matrix(initialized_matrix, nussinov_seq)"
      ],
      "metadata": {
        "colab": {
          "base_uri": "https://localhost:8080/"
        },
        "id": "dKtJv4g6kmQn",
        "outputId": "ae749120-6433-422d-ca6a-658d123b44f5"
      },
      "execution_count": 29,
      "outputs": [
        {
          "output_type": "stream",
          "name": "stdout",
          "text": [
            "Enter the RNA sequence : AUUCG\n",
            "[0, 0, 2, 2, 2]\n",
            "[0, 0, 0, 0, 1]\n",
            "[0, 0, 0, 0, 1]\n",
            "[0, 0, 0, 0, 0]\n",
            "[0, 0, 0, 0, 0]\n",
            "A , U 0 2\n",
            "U 1\n",
            "C 3\n",
            "G 4\n"
          ]
        }
      ]
    }
  ]
}