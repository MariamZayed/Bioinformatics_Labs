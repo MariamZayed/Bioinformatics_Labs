{
  "nbformat": 4,
  "nbformat_minor": 0,
  "metadata": {
    "colab": {
      "name": "Lab8_Bioinformatics.ipynb",
      "provenance": [],
      "collapsed_sections": [
        "ENKhDTDXip_e"
      ],
      "authorship_tag": "ABX9TyNxeB/6u7gK36BOE8DuW9r3",
      "include_colab_link": true
    },
    "kernelspec": {
      "name": "python3",
      "display_name": "Python 3"
    },
    "language_info": {
      "name": "python"
    }
  },
  "cells": [
    {
      "cell_type": "markdown",
      "metadata": {
        "id": "view-in-github",
        "colab_type": "text"
      },
      "source": [
        "<a href=\"https://colab.research.google.com/github/MariamZayed/Bioinformatics_Labs/blob/main/Lab8_Bioinformatics.ipynb\" target=\"_parent\"><img src=\"https://colab.research.google.com/assets/colab-badge.svg\" alt=\"Open In Colab\"/></a>"
      ]
    },
    {
      "cell_type": "markdown",
      "source": [
        "##**In This Lab**"
      ],
      "metadata": {
        "id": "qBtSlAHSg_jW"
      }
    },
    {
      "cell_type": "markdown",
      "source": [
        "Like the previous lab you will dawnload and imported two libs\n",
        "\n",
        "\n",
        "you can find them here\n",
        "\n",
        "- InitializeMatrix:\n",
        "\n",
        "https://medmansedu-my.sharepoint.com/personal/eman_elsaeed_mans_edu_eg/_layouts/15/onedrive.aspx?id=%2Fpersonal%2Feman_elsaeed_mans_edu_eg%2FDocuments%2FInitializeMatrix%2Epy&parent=%2Fpersonal%2Feman_elsaeed_mans_edu_eg%2FDocuments\n",
        "\n",
        "- PrintMatrix\n",
        "\n",
        "https://medmansedu-my.sharepoint.com/personal/eman_elsaeed_mans_edu_eg/_layouts/15/onedrive.aspx?id=%2Fpersonal%2Feman_elsaeed_mans_edu_eg%2FDocuments%2FPrintMatrix%2Epy&parent=%2Fpersonal%2Feman_elsaeed_mans_edu_eg%2FDocuments"
      ],
      "metadata": {
        "id": "XUEUoQOhhb8V"
      }
    },
    {
      "cell_type": "markdown",
      "source": [
        "##**Importing Section**"
      ],
      "metadata": {
        "id": "wbLWTKd5VXzV"
      }
    },
    {
      "cell_type": "code",
      "execution_count": 28,
      "metadata": {
        "colab": {
          "base_uri": "https://localhost:8080/"
        },
        "id": "VQf5I8j-sQct",
        "outputId": "fd3aa848-b516-438f-dc61-710389efd800"
      },
      "outputs": [
        {
          "output_type": "stream",
          "name": "stdout",
          "text": [
            "Requirement already satisfied: biopython in /usr/local/lib/python3.7/dist-packages (1.79)\n",
            "Requirement already satisfied: numpy in /usr/local/lib/python3.7/dist-packages (from biopython) (1.19.5)\n"
          ]
        }
      ],
      "source": [
        "pip install biopython"
      ]
    },
    {
      "cell_type": "code",
      "source": [
        "import Bio \n",
        "from Bio.Seq import Seq\n",
        "from Bio import SeqIO #this lib to read and itra files\n",
        "from Bio import motifs #for creating motifes objects\n",
        "import InitializeMatrix #dawnload this library from the link above and then imported it like now\n",
        "import PrintMatrix #dawnload this library from the link above and then imported it here"
      ],
      "metadata": {
        "id": "PF-ZaM7KxP0u"
      },
      "execution_count": 29,
      "outputs": []
    },
    {
      "cell_type": "markdown",
      "source": [
        "##**HMM**"
      ],
      "metadata": {
        "id": "XS32kZ2ZgSv8"
      }
    },
    {
      "cell_type": "markdown",
      "source": [
        "###Initializing paramter for the upcoming algorithms"
      ],
      "metadata": {
        "id": "ENKhDTDXip_e"
      }
    },
    {
      "cell_type": "code",
      "execution_count": 30,
      "metadata": {
        "colab": {
          "base_uri": "https://localhost:8080/"
        },
        "id": "9CVB2b5AQKHK",
        "outputId": "a7ba45b2-4cdf-46c2-be9a-88d86c5c07d9"
      },
      "outputs": [
        {
          "output_type": "stream",
          "name": "stdout",
          "text": [
            "['b', 'y', 'n', 'e']\n"
          ]
        }
      ],
      "source": [
        "states = ['b','y','n','e']\n",
        "print(states)"
      ]
    },
    {
      "cell_type": "markdown",
      "source": [
        "__________"
      ],
      "metadata": {
        "id": "giQKg-amp9VK"
      }
    },
    {
      "cell_type": "markdown",
      "source": [
        "defining transistion values"
      ],
      "metadata": {
        "id": "U6nXE3nkgbCm"
      }
    },
    {
      "cell_type": "code",
      "source": [
        "transitions = {('b','y') : 0.2,\n",
        "               ('b','n') : 0.8,\n",
        "               ('y','y') : 0.7,\n",
        "               ('y','n') : 0.2,\n",
        "               ('y','e') : 0.1,\n",
        "               ('n','n') : 0.8,\n",
        "               ('n','y') : 0.1,\n",
        "               ('n','e') : 0.1 \n",
        "               }\n",
        "print(transitions)"
      ],
      "metadata": {
        "colab": {
          "base_uri": "https://localhost:8080/"
        },
        "id": "wNO_fD1FgdCf",
        "outputId": "ba4af93f-f975-4d6b-b022-45d5aa329203"
      },
      "execution_count": 31,
      "outputs": [
        {
          "output_type": "stream",
          "name": "stdout",
          "text": [
            "{('b', 'y'): 0.2, ('b', 'n'): 0.8, ('y', 'y'): 0.7, ('y', 'n'): 0.2, ('y', 'e'): 0.1, ('n', 'n'): 0.8, ('n', 'y'): 0.1, ('n', 'e'): 0.1}\n"
          ]
        }
      ]
    },
    {
      "cell_type": "markdown",
      "source": [
        "------------"
      ],
      "metadata": {
        "id": "n8y5j2zdmYgs"
      }
    },
    {
      "cell_type": "markdown",
      "source": [
        "defining emission values"
      ],
      "metadata": {
        "id": "fna1uWf0hoIL"
      }
    },
    {
      "cell_type": "code",
      "source": [
        "emissions = {'y' : {'A':0.1, 'C':0.4, 'G':0.4, 'T':0.1},\n",
        "             'n' : {'A':0.25, 'C':0.25, 'G':0.25, 'T':0.25} \n",
        "             }\n",
        "print(emissions)"
      ],
      "metadata": {
        "colab": {
          "base_uri": "https://localhost:8080/"
        },
        "id": "kAZiel-egitL",
        "outputId": "df12e40c-8eb5-47db-b322-2094476dbdd0"
      },
      "execution_count": 32,
      "outputs": [
        {
          "output_type": "stream",
          "name": "stdout",
          "text": [
            "{'y': {'A': 0.1, 'C': 0.4, 'G': 0.4, 'T': 0.1}, 'n': {'A': 0.25, 'C': 0.25, 'G': 0.25, 'T': 0.25}}\n"
          ]
        }
      ]
    },
    {
      "cell_type": "markdown",
      "source": [
        "-----------"
      ],
      "metadata": {
        "id": "B9QL9MKFmcMK"
      }
    },
    {
      "cell_type": "markdown",
      "source": [
        "preparing the sequence"
      ],
      "metadata": {
        "id": "69eGWSmEhrUd"
      }
    },
    {
      "cell_type": "code",
      "source": [
        "sequence = 'ATGCG'\n",
        "print(sequence)"
      ],
      "metadata": {
        "colab": {
          "base_uri": "https://localhost:8080/"
        },
        "id": "V1a-kzozgxRC",
        "outputId": "d5467120-aad7-4260-ee08-2332258e5400"
      },
      "execution_count": 33,
      "outputs": [
        {
          "output_type": "stream",
          "name": "stdout",
          "text": [
            "ATGCG\n"
          ]
        }
      ]
    },
    {
      "cell_type": "markdown",
      "source": [
        "##Backward Algorithm"
      ],
      "metadata": {
        "id": "9MwbWW_pined"
      }
    },
    {
      "cell_type": "markdown",
      "source": [
        "###Intializing the Backward Matrix"
      ],
      "metadata": {
        "id": "3phm2VPIoShH"
      }
    },
    {
      "cell_type": "code",
      "source": [
        "F = InitializeMatrix.initialize_matrix(len(states), len(sequence) + 2)\n",
        "F[-1][-1] = 1\n",
        "PrintMatrix.print_matrix(F, states, sequence)"
      ],
      "metadata": {
        "colab": {
          "base_uri": "https://localhost:8080/"
        },
        "id": "UgDHUPArgx7t",
        "outputId": "23813622-6ddb-4c2a-cd26-6d95c739c11a"
      },
      "execution_count": 34,
      "outputs": [
        {
          "output_type": "stream",
          "name": "stdout",
          "text": [
            "          0         A         T         G         C         G         0         \n",
            "b         0.00e+00  0.00e+00  0.00e+00  0.00e+00  0.00e+00  0.00e+00  0.00e+00  \n",
            "y         0.00e+00  0.00e+00  0.00e+00  0.00e+00  0.00e+00  0.00e+00  0.00e+00  \n",
            "n         0.00e+00  0.00e+00  0.00e+00  0.00e+00  0.00e+00  0.00e+00  0.00e+00  \n",
            "e         0.00e+00  0.00e+00  0.00e+00  0.00e+00  0.00e+00  0.00e+00  1.00e+00  \n"
          ]
        }
      ]
    },
    {
      "cell_type": "markdown",
      "source": [
        "> - note that we wanted the last index in the backward algorithm, so we are calling F[-1][-1]\n",
        "> -the last row last column cell value is now equals 1 as we wanted"
      ],
      "metadata": {
        "id": "NS0x-zJQoChQ"
      }
    },
    {
      "cell_type": "markdown",
      "source": [
        "------------"
      ],
      "metadata": {
        "id": "QDcDZGORnhbl"
      }
    },
    {
      "cell_type": "markdown",
      "source": [
        "###work with first column G"
      ],
      "metadata": {
        "id": "KIcYTHuSog6v"
      }
    },
    {
      "cell_type": "markdown",
      "source": [
        "First column to start with has special equation than other columns"
      ],
      "metadata": {
        "id": "2-yK7gaijc0-"
      }
    },
    {
      "cell_type": "code",
      "source": [
        "for i in range(1, len(states) - 1):\n",
        "  F[i][-2] = transitions[(states[i], states[-1])]\n",
        "PrintMatrix.print_matrix(F, states, sequence)"
      ],
      "metadata": {
        "colab": {
          "base_uri": "https://localhost:8080/"
        },
        "id": "2fVooUcAi9IF",
        "outputId": "a536ac64-a8b4-469c-ad8e-a44a8c9d6164"
      },
      "execution_count": 35,
      "outputs": [
        {
          "output_type": "stream",
          "name": "stdout",
          "text": [
            "          0         A         T         G         C         G         0         \n",
            "b         0.00e+00  0.00e+00  0.00e+00  0.00e+00  0.00e+00  0.00e+00  0.00e+00  \n",
            "y         0.00e+00  0.00e+00  0.00e+00  0.00e+00  0.00e+00  1.00e-01  0.00e+00  \n",
            "n         0.00e+00  0.00e+00  0.00e+00  0.00e+00  0.00e+00  1.00e-01  0.00e+00  \n",
            "e         0.00e+00  0.00e+00  0.00e+00  0.00e+00  0.00e+00  0.00e+00  1.00e+00  \n"
          ]
        }
      ]
    },
    {
      "cell_type": "markdown",
      "source": [
        "-----------"
      ],
      "metadata": {
        "id": "UZLKsJe3njSb"
      }
    },
    {
      "cell_type": "markdown",
      "source": [
        "###rest of the columns"
      ],
      "metadata": {
        "id": "1oh-PTewooV-"
      }
    },
    {
      "cell_type": "markdown",
      "source": [
        "Now we will compute from the second last to the first, we calculate the values as the sum of probabilities\n"
      ],
      "metadata": {
        "id": "xaUx3uChjS9Q"
      }
    },
    {
      "cell_type": "code",
      "source": [
        "for j in range(len(sequence)-1,0,-1): # loops on the symbols \n",
        "  for i in range(1,len(states)-1): # loops on the states \n",
        "    p_sum = 0\n",
        "    for k in range(1,len(states)-1): # loops on all of the possible successive states \n",
        "      p_sum += F[k][j+1]*transitions[(states[i],states[k])]*emissions[states[k]][sequence[j]]\n",
        "      F[i][j] = p_sum\n",
        "PrintMatrix.print_matrix(F, states, sequence)"
      ],
      "metadata": {
        "colab": {
          "base_uri": "https://localhost:8080/"
        },
        "id": "fScbvL0bjy7L",
        "outputId": "11bc68c8-8dfb-4d17-ec77-8998c68c7174"
      },
      "execution_count": 36,
      "outputs": [
        {
          "output_type": "stream",
          "name": "stdout",
          "text": [
            "          0         A         T         G         C         G         0         \n",
            "b         0.00e+00  0.00e+00  0.00e+00  0.00e+00  0.00e+00  0.00e+00  0.00e+00  \n",
            "y         0.00e+00  3.08e-04  3.23e-03  1.04e-02  3.30e-02  1.00e-01  0.00e+00  \n",
            "n         0.00e+00  3.61e-04  1.64e-03  6.12e-03  2.40e-02  1.00e-01  0.00e+00  \n",
            "e         0.00e+00  0.00e+00  0.00e+00  0.00e+00  0.00e+00  0.00e+00  1.00e+00  \n"
          ]
        }
      ]
    },
    {
      "cell_type": "markdown",
      "source": [
        "________"
      ],
      "metadata": {
        "id": "EdDLwnVKnkoA"
      }
    },
    {
      "cell_type": "markdown",
      "source": [
        "###finally, the probability value "
      ],
      "metadata": {
        "id": "gnul15FApBuo"
      }
    },
    {
      "cell_type": "markdown",
      "source": [
        "Now, we need to calculate the final value. It is the sum of probabilities\n",
        "\n",
        "you will find the final value in the first cell of the table\n"
      ],
      "metadata": {
        "id": "RONJ2sS0kBfp"
      }
    },
    {
      "cell_type": "code",
      "source": [
        "p_sum = 0\n",
        "for k in range(1,len(states)-1):\n",
        "  p_sum += F[k][1]*transitions[(states[0],states[k])]*emissions[states[k]][sequence[0]]\n",
        "  F[0][0] = p_sum\n",
        "PrintMatrix.print_matrix(F, states, sequence)"
      ],
      "metadata": {
        "colab": {
          "base_uri": "https://localhost:8080/"
        },
        "id": "I3XpCe4cjy3i",
        "outputId": "6dbd3c99-a6d1-4254-84e0-5949b752e923"
      },
      "execution_count": 38,
      "outputs": [
        {
          "output_type": "stream",
          "name": "stdout",
          "text": [
            "          0         A         T         G         C         G         0         \n",
            "b         7.83e-05  0.00e+00  0.00e+00  0.00e+00  0.00e+00  0.00e+00  0.00e+00  \n",
            "y         0.00e+00  3.08e-04  3.23e-03  1.04e-02  3.30e-02  1.00e-01  0.00e+00  \n",
            "n         0.00e+00  3.61e-04  1.64e-03  6.12e-03  2.40e-02  1.00e-01  0.00e+00  \n",
            "e         0.00e+00  0.00e+00  0.00e+00  0.00e+00  0.00e+00  0.00e+00  2.00e-02  \n"
          ]
        }
      ]
    }
  ]
}