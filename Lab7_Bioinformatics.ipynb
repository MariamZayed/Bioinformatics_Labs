{
  "nbformat": 4,
  "nbformat_minor": 0,
  "metadata": {
    "colab": {
      "name": "Lab7_Bioinformatics.ipynb",
      "provenance": [],
      "collapsed_sections": [
        "qBtSlAHSg_jW",
        "ENKhDTDXip_e"
      ],
      "authorship_tag": "ABX9TyP3F+TpcDmOnRT25tl78XLC",
      "include_colab_link": true
    },
    "kernelspec": {
      "name": "python3",
      "display_name": "Python 3"
    },
    "language_info": {
      "name": "python"
    }
  },
  "cells": [
    {
      "cell_type": "markdown",
      "metadata": {
        "id": "view-in-github",
        "colab_type": "text"
      },
      "source": [
        "<a href=\"https://colab.research.google.com/github/MariamZayed/Bioinformatics_Labs/blob/main/Lab7_Bioinformatics.ipynb\" target=\"_parent\"><img src=\"https://colab.research.google.com/assets/colab-badge.svg\" alt=\"Open In Colab\"/></a>"
      ]
    },
    {
      "cell_type": "markdown",
      "source": [
        "##**In This Section**"
      ],
      "metadata": {
        "id": "qBtSlAHSg_jW"
      }
    },
    {
      "cell_type": "markdown",
      "source": [
        "We will dawnload anf imported two libs\n",
        "\n",
        "\n",
        "you can find them here\n",
        "\n",
        "- InitializeMatrix:\n",
        "\n",
        "https://medmansedu-my.sharepoint.com/personal/eman_elsaeed_mans_edu_eg/_layouts/15/onedrive.aspx?id=%2Fpersonal%2Feman_elsaeed_mans_edu_eg%2FDocuments%2FInitializeMatrix%2Epy&parent=%2Fpersonal%2Feman_elsaeed_mans_edu_eg%2FDocuments\n",
        "\n",
        "- PrintMatrix\n",
        "\n",
        "https://medmansedu-my.sharepoint.com/personal/eman_elsaeed_mans_edu_eg/_layouts/15/onedrive.aspx?id=%2Fpersonal%2Feman_elsaeed_mans_edu_eg%2FDocuments%2FPrintMatrix%2Epy&parent=%2Fpersonal%2Feman_elsaeed_mans_edu_eg%2FDocuments"
      ],
      "metadata": {
        "id": "XUEUoQOhhb8V"
      }
    },
    {
      "cell_type": "markdown",
      "source": [
        "##**Importing Section**"
      ],
      "metadata": {
        "id": "wbLWTKd5VXzV"
      }
    },
    {
      "cell_type": "code",
      "execution_count": 1,
      "metadata": {
        "colab": {
          "base_uri": "https://localhost:8080/"
        },
        "id": "VQf5I8j-sQct",
        "outputId": "55403859-5bc2-4fb2-e83d-eeb046016d2e"
      },
      "outputs": [
        {
          "output_type": "stream",
          "name": "stdout",
          "text": [
            "Collecting biopython\n",
            "  Downloading biopython-1.79-cp37-cp37m-manylinux_2_5_x86_64.manylinux1_x86_64.whl (2.3 MB)\n",
            "\u001b[K     |████████████████████████████████| 2.3 MB 8.3 MB/s \n",
            "\u001b[?25hRequirement already satisfied: numpy in /usr/local/lib/python3.7/dist-packages (from biopython) (1.19.5)\n",
            "Installing collected packages: biopython\n",
            "Successfully installed biopython-1.79\n"
          ]
        }
      ],
      "source": [
        "pip install biopython"
      ]
    },
    {
      "cell_type": "code",
      "source": [
        "import Bio \n",
        "from Bio.Seq import Seq\n",
        "from Bio import SeqIO #this lib to read and itra files\n",
        "from Bio import motifs #for creating motifes objects\n",
        "import InitializeMatrix #dawnload this library from the link above and then imported it like now\n",
        "import PrintMatrix #dawnload this library from the link above and then imported it here"
      ],
      "metadata": {
        "id": "PF-ZaM7KxP0u"
      },
      "execution_count": 12,
      "outputs": []
    },
    {
      "cell_type": "markdown",
      "source": [
        "##*HMM*"
      ],
      "metadata": {
        "id": "XS32kZ2ZgSv8"
      }
    },
    {
      "cell_type": "markdown",
      "source": [
        ""
      ],
      "metadata": {
        "id": "nPLwQojriqE0"
      }
    },
    {
      "cell_type": "markdown",
      "source": [
        "###Initializing paramter for the upcoming algorithms"
      ],
      "metadata": {
        "id": "ENKhDTDXip_e"
      }
    },
    {
      "cell_type": "code",
      "execution_count": 3,
      "metadata": {
        "colab": {
          "base_uri": "https://localhost:8080/"
        },
        "id": "9CVB2b5AQKHK",
        "outputId": "d8b418cb-f863-4f2d-e9c5-1ab8ade5bf76"
      },
      "outputs": [
        {
          "output_type": "stream",
          "name": "stdout",
          "text": [
            "['b', 'y', 'n', 'e']\n"
          ]
        }
      ],
      "source": [
        "states = ['b','y','n','e']\n",
        "print(states)"
      ]
    },
    {
      "cell_type": "markdown",
      "source": [
        "defining transistion values"
      ],
      "metadata": {
        "id": "U6nXE3nkgbCm"
      }
    },
    {
      "cell_type": "code",
      "source": [
        "transitions = {('b','y') : 0.2,\n",
        "               ('b','n') : 0.8,\n",
        "               ('y','y') : 0.7,\n",
        "               ('y','n') : 0.2,\n",
        "               ('y','e') : 0.1,\n",
        "               ('n','n') : 0.8,\n",
        "               ('n','y') : 0.1,\n",
        "               ('n','e') : 0.1 \n",
        "               }\n",
        "print(transitions)"
      ],
      "metadata": {
        "colab": {
          "base_uri": "https://localhost:8080/"
        },
        "id": "wNO_fD1FgdCf",
        "outputId": "2f09c5b2-8274-40de-8a60-7e63b6e264be"
      },
      "execution_count": 4,
      "outputs": [
        {
          "output_type": "stream",
          "name": "stdout",
          "text": [
            "{('b', 'y'): 0.2, ('b', 'n'): 0.8, ('y', 'y'): 0.7, ('y', 'n'): 0.2, ('y', 'e'): 0.1, ('n', 'n'): 0.8, ('n', 'y'): 0.1, ('n', 'e'): 0.1}\n"
          ]
        }
      ]
    },
    {
      "cell_type": "markdown",
      "source": [
        "defining emission values"
      ],
      "metadata": {
        "id": "fna1uWf0hoIL"
      }
    },
    {
      "cell_type": "code",
      "source": [
        "emissions = {'y' : {'A':0.1, 'C':0.4, 'G':0.4, 'T':0.1},\n",
        "             'n' : {'A':0.25, 'C':0.25, 'G':0.25, 'T':0.25} \n",
        "             }\n",
        "print(emissions)"
      ],
      "metadata": {
        "colab": {
          "base_uri": "https://localhost:8080/"
        },
        "id": "kAZiel-egitL",
        "outputId": "68d52d72-f646-458b-e9bc-20db8bdbdaba"
      },
      "execution_count": 5,
      "outputs": [
        {
          "output_type": "stream",
          "name": "stdout",
          "text": [
            "{'y': {'A': 0.1, 'C': 0.4, 'G': 0.4, 'T': 0.1}, 'n': {'A': 0.25, 'C': 0.25, 'G': 0.25, 'T': 0.25}}\n"
          ]
        }
      ]
    },
    {
      "cell_type": "markdown",
      "source": [
        "preparing the sequence"
      ],
      "metadata": {
        "id": "69eGWSmEhrUd"
      }
    },
    {
      "cell_type": "code",
      "source": [
        "sequence = 'ATGCG'\n",
        "print(sequence)"
      ],
      "metadata": {
        "colab": {
          "base_uri": "https://localhost:8080/"
        },
        "id": "V1a-kzozgxRC",
        "outputId": "5b524a6e-b0b4-4de9-ee15-3b7e86d97c19"
      },
      "execution_count": 7,
      "outputs": [
        {
          "output_type": "stream",
          "name": "stdout",
          "text": [
            "ATGCG\n"
          ]
        }
      ]
    },
    {
      "cell_type": "markdown",
      "source": [
        "###Forward Algorithm"
      ],
      "metadata": {
        "id": "9MwbWW_pined"
      }
    },
    {
      "cell_type": "code",
      "source": [
        "F = InitializeMatrix.initialize_matrix(len(states), len(sequence) + 2)\n",
        "F[0][0] = 1\n",
        "PrintMatrix.print_matrix(F, states, sequence)"
      ],
      "metadata": {
        "colab": {
          "base_uri": "https://localhost:8080/"
        },
        "id": "UgDHUPArgx7t",
        "outputId": "079c6db0-0ad9-4383-832d-21708e4e365b"
      },
      "execution_count": 13,
      "outputs": [
        {
          "output_type": "stream",
          "name": "stdout",
          "text": [
            "          0         A         T         G         C         G         0         \n",
            "b         1.00e+00  0.00e+00  0.00e+00  0.00e+00  0.00e+00  0.00e+00  0.00e+00  \n",
            "y         0.00e+00  0.00e+00  0.00e+00  0.00e+00  0.00e+00  0.00e+00  0.00e+00  \n",
            "n         0.00e+00  0.00e+00  0.00e+00  0.00e+00  0.00e+00  0.00e+00  0.00e+00  \n",
            "e         0.00e+00  0.00e+00  0.00e+00  0.00e+00  0.00e+00  0.00e+00  0.00e+00  \n"
          ]
        }
      ]
    },
    {
      "cell_type": "markdown",
      "source": [
        "First column has special equation, so we will work in the first postion 1"
      ],
      "metadata": {
        "id": "2-yK7gaijc0-"
      }
    },
    {
      "cell_type": "code",
      "source": [
        "for i in range(1, len(states) - 1):\n",
        "  F[i][1] = transitions[(states[0], states[i])] * emissions[states[i]][sequence[0]]\n",
        "PrintMatrix.print_matrix(F, states, sequence)"
      ],
      "metadata": {
        "colab": {
          "base_uri": "https://localhost:8080/"
        },
        "id": "2fVooUcAi9IF",
        "outputId": "448a91cc-a03c-4599-e0b3-1038df206cf6"
      },
      "execution_count": 19,
      "outputs": [
        {
          "output_type": "stream",
          "name": "stdout",
          "text": [
            "          0         A         T         G         C         G         0         \n",
            "b         1.00e+00  0.00e+00  0.00e+00  0.00e+00  0.00e+00  0.00e+00  0.00e+00  \n",
            "y         0.00e+00  2.00e-02  3.40e-03  2.59e-03  1.06e-03  3.69e-04  0.00e+00  \n",
            "n         0.00e+00  2.00e-01  4.10e-02  8.37e-03  1.80e-03  4.14e-04  0.00e+00  \n",
            "e         0.00e+00  0.00e+00  0.00e+00  0.00e+00  0.00e+00  0.00e+00  0.00e+00  \n"
          ]
        }
      ]
    },
    {
      "cell_type": "markdown",
      "source": [
        "Now we will compute for all of the other symbols, from the second to the last\n",
        "\n",
        "we calculate the values as the **sum** of probabilities, beacuse it's the forword algorithm"
      ],
      "metadata": {
        "id": "xaUx3uChjS9Q"
      }
    },
    {
      "cell_type": "code",
      "source": [
        "for j in range(2, len(sequence) + 1):# loops on the symbols\n",
        "  for i in range(1, len(states) - 1):# loops on the states\n",
        "    p_sum = 0\n",
        "    for k in range(1, len(states) - 1):# loops on all of the possible previous states\n",
        "      p_sum += F[k][j - 1] * transitions[(states[k], states[i])] * emissions[states[i]][sequence[j - 1]]\n",
        "      F[i][j] = p_sum\n",
        "PrintMatrix.print_matrix(F, states, sequence)"
      ],
      "metadata": {
        "colab": {
          "base_uri": "https://localhost:8080/"
        },
        "id": "fScbvL0bjy7L",
        "outputId": "41893583-9e20-4e36-bd4d-a9c1988d6d57"
      },
      "execution_count": 16,
      "outputs": [
        {
          "output_type": "stream",
          "name": "stdout",
          "text": [
            "          0         A         T         G         C         G         0         \n",
            "b         1.00e+00  0.00e+00  0.00e+00  0.00e+00  0.00e+00  0.00e+00  0.00e+00  \n",
            "y         0.00e+00  2.00e-02  3.40e-03  2.59e-03  1.06e-03  3.69e-04  0.00e+00  \n",
            "n         0.00e+00  2.00e-01  4.10e-02  8.37e-03  1.80e-03  4.14e-04  0.00e+00  \n",
            "e         0.00e+00  0.00e+00  0.00e+00  0.00e+00  0.00e+00  0.00e+00  0.00e+00  \n"
          ]
        }
      ]
    },
    {
      "cell_type": "markdown",
      "source": [
        "Now, we need to calculate the final value. It is the sum of probabilities\n",
        "\n",
        "you will find the final value in the last cell of the table\n"
      ],
      "metadata": {
        "id": "RONJ2sS0kBfp"
      }
    },
    {
      "cell_type": "code",
      "source": [
        "p_sum = 0\n",
        "for k in range(1,len(states)-1):\n",
        "  p_sum += F[k][len(sequence)]*transitions[(states[k],states[-1])]\n",
        "  F[-1][-1] = p_sum\n",
        "PrintMatrix.print_matrix(F, states, sequence)"
      ],
      "metadata": {
        "colab": {
          "base_uri": "https://localhost:8080/"
        },
        "id": "I3XpCe4cjy3i",
        "outputId": "ba0ea169-ceaf-4adf-a490-2f6fee05622b"
      },
      "execution_count": 20,
      "outputs": [
        {
          "output_type": "stream",
          "name": "stdout",
          "text": [
            "          0         A         T         G         C         G         0         \n",
            "b         1.00e+00  0.00e+00  0.00e+00  0.00e+00  0.00e+00  0.00e+00  0.00e+00  \n",
            "y         0.00e+00  2.00e-02  3.40e-03  2.59e-03  1.06e-03  3.69e-04  0.00e+00  \n",
            "n         0.00e+00  2.00e-01  4.10e-02  8.37e-03  1.80e-03  4.14e-04  0.00e+00  \n",
            "e         0.00e+00  0.00e+00  0.00e+00  0.00e+00  0.00e+00  0.00e+00  7.83e-05  \n"
          ]
        }
      ]
    }
  ]
}